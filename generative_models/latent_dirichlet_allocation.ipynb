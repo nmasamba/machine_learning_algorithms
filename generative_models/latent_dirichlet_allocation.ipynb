{
 "cells": [
  {
   "cell_type": "code",
   "execution_count": 1,
   "metadata": {},
   "outputs": [],
   "source": [
    "import sqlite3\n",
    "import pandas as pd\n",
    "from gensim import corpora, models, similarities\n",
    "import nltk\n",
    "from collections import Counter"
   ]
  },
  {
   "cell_type": "code",
   "execution_count": 2,
   "metadata": {},
   "outputs": [
    {
     "name": "stdout",
     "output_type": "stream",
     "text": [
      "Number of unquie articles in dataset:  3147\n"
     ]
    },
    {
     "data": {
      "text/html": [
       "<div>\n",
       "<style scoped>\n",
       "    .dataframe tbody tr th:only-of-type {\n",
       "        vertical-align: middle;\n",
       "    }\n",
       "\n",
       "    .dataframe tbody tr th {\n",
       "        vertical-align: top;\n",
       "    }\n",
       "\n",
       "    .dataframe thead th {\n",
       "        text-align: right;\n",
       "    }\n",
       "</style>\n",
       "<table border=\"1\" class=\"dataframe\">\n",
       "  <thead>\n",
       "    <tr style=\"text-align: right;\">\n",
       "      <th></th>\n",
       "      <th>title</th>\n",
       "      <th>text</th>\n",
       "      <th>url</th>\n",
       "      <th>journal</th>\n",
       "      <th>date</th>\n",
       "    </tr>\n",
       "  </thead>\n",
       "  <tbody>\n",
       "    <tr>\n",
       "      <th>0</th>\n",
       "      <td>Liquid-phase sequence capture and targeted re-...</td>\n",
       "      <td>tomato solanum lycopersicum l plants are chara...</td>\n",
       "      <td>http://www.nature.com/articles/s41598-017-06120-3</td>\n",
       "      <td>Scientific Reports</td>\n",
       "      <td>17 July 2017</td>\n",
       "    </tr>\n",
       "    <tr>\n",
       "      <th>1</th>\n",
       "      <td>The European Society of Human Genetics: beginn...</td>\n",
       "      <td>the european society of human genetics eshg wa...</td>\n",
       "      <td>http://www.nature.com/ejhg/journal/vaop/ncurre...</td>\n",
       "      <td>European Journal of Human Genetics</td>\n",
       "      <td>10 May 2017</td>\n",
       "    </tr>\n",
       "    <tr>\n",
       "      <th>2</th>\n",
       "      <td>Midnolin is a novel regulator of parkin expres...</td>\n",
       "      <td>midnolin midn was first discovered in embryoni...</td>\n",
       "      <td>http://www.nature.com/articles/s41598-017-05456-0</td>\n",
       "      <td>Scientific Reports</td>\n",
       "      <td>19 July 2017</td>\n",
       "    </tr>\n",
       "    <tr>\n",
       "      <th>3</th>\n",
       "      <td>Cardiac spheroids as promising   models to stu...</td>\n",
       "      <td>three dimensional in vitro cell systems are a ...</td>\n",
       "      <td>http://www.nature.com/articles/s41598-017-06385-8</td>\n",
       "      <td>Scientific Reports</td>\n",
       "      <td>01 August 2017</td>\n",
       "    </tr>\n",
       "    <tr>\n",
       "      <th>4</th>\n",
       "      <td>Lower school performance in late chronotypes: ...</td>\n",
       "      <td>success at school determines future career opp...</td>\n",
       "      <td>http://www.nature.com/articles/s41598-017-04076-y</td>\n",
       "      <td>Scientific Reports</td>\n",
       "      <td>29 June 2017</td>\n",
       "    </tr>\n",
       "  </tbody>\n",
       "</table>\n",
       "</div>"
      ],
      "text/plain": [
       "                                               title  \\\n",
       "0  Liquid-phase sequence capture and targeted re-...   \n",
       "1  The European Society of Human Genetics: beginn...   \n",
       "2  Midnolin is a novel regulator of parkin expres...   \n",
       "3  Cardiac spheroids as promising   models to stu...   \n",
       "4  Lower school performance in late chronotypes: ...   \n",
       "\n",
       "                                                text  \\\n",
       "0  tomato solanum lycopersicum l plants are chara...   \n",
       "1  the european society of human genetics eshg wa...   \n",
       "2  midnolin midn was first discovered in embryoni...   \n",
       "3  three dimensional in vitro cell systems are a ...   \n",
       "4  success at school determines future career opp...   \n",
       "\n",
       "                                                 url  \\\n",
       "0  http://www.nature.com/articles/s41598-017-06120-3   \n",
       "1  http://www.nature.com/ejhg/journal/vaop/ncurre...   \n",
       "2  http://www.nature.com/articles/s41598-017-05456-0   \n",
       "3  http://www.nature.com/articles/s41598-017-06385-8   \n",
       "4  http://www.nature.com/articles/s41598-017-04076-y   \n",
       "\n",
       "                              journal            date  \n",
       "0                  Scientific Reports    17 July 2017  \n",
       "1  European Journal of Human Genetics     10 May 2017  \n",
       "2                  Scientific Reports    19 July 2017  \n",
       "3                  Scientific Reports  01 August 2017  \n",
       "4                  Scientific Reports    29 June 2017  "
      ]
     },
     "execution_count": 2,
     "metadata": {},
     "output_type": "execute_result"
    }
   ],
   "source": [
    "# This work uses latent Dirichlet allocation to analyse journal articles from Nature.com\n",
    "# Nature doesn't seem to have an API so the documents were scraped and stored in a SQLite database\n",
    "# The sqlite database can be extracted from the zip folder called article_db\n",
    "# The scripts used to scrape the data: collect-articles-html.py, process-scraped-html.py\n",
    "\n",
    "conn = sqlite3.connect('./database/nature_articles.db')\n",
    "cursor = conn.cursor()\n",
    "num_articles = cursor.execute('SELECT count(distinct title) FROM articles WHERE wc > 1500;').fetchall()[0][0]\n",
    "print('Number of unquie articles in dataset: ', num_articles)\n",
    "\n",
    "df = pd.read_sql_query(\"SELECT distinct(title), text, url, journal, date FROM articles WHERE wc > 1500 ORDER BY random();\",\n",
    "                       conn)\n",
    "df.head()"
   ]
  },
  {
   "cell_type": "code",
   "execution_count": 4,
   "metadata": {},
   "outputs": [
    {
     "name": "stdout",
     "output_type": "stream",
     "text": [
      "\n",
      " A genomic perspective on stoichiometric regulation of soil carbon cycling\n",
      "\n",
      "Subject: climate-sciences\n",
      "\n",
      "\t similar to plant growth soil carbon c cycling is constrained by the availability of nitrogen n and phosphorus p we hypothesized that stoichiometric control over soil microbial c cycling may be shaped by functional guilds with distinct nutrient substrate preferences across a series of rice fields spanning soil c n p from to c turnover was best correlated with p availability and increased with experimental n addition only in lower c mineral soils with n p microbial community membership also varied with soil stoichiometry but not with n addition shotgun metagenome data revealed changes in community functions with increasing c turnover including a shift from aromatic c to carbohydrate utilization accompanied by lower n uptake and p scavenging similar patterns of c n and p acquisition along with higher ribosomal rna operon copy numbers distinguished that microbial taxa positively correlated with c turnover considering such tradeoffs in genomic resource allocation patterns among taxa strengthened correlations between microbial community composition and c cycling suggesting simplified guilds amenable to ecosystem modeling our results suggest that patterns of soil c turnover may reflect community dependent metabolic shifts driven by resource allocation strategies analogous to growth rate stoichiometry coupling in animal and plant communities top of page introduction although microbial communities are critical to carbon c flow in the biosphere ecosystem models have only recently begun to simulate variation in their metabolism in soils li et al wang et al weider et al increasingly powerful and available data on microbial community structure and function might help to better inform these efforts mcguire and treseder singh et al schimel and schaeffer graham et al yet compared with taxonomically constrained processes such as ammonia or methane oxidation bouskill et al ho et al delineation of functional groups for decomposition in soils is challenging due to the broad distribution and functional redundancy of the relevant traits allison and martiny schimel and schaeffer berlemont and martiny martiny et al however consideration of interactions between c and nutrient cycling by soil microbes may help clarify ecologically relevant functional guilds for example consistent shifts in terrestrial soil c turnover and retention with mineral n addition craine et al treseder appear mediated in part by increased abundance of microbes utilizing simple c substrates at the expense of those mining complex aromatic c and organic n treseder et al fierer et al ramirez et al cederlund et al amend et al phosphorus p availability can also contribute to regulation of soil c cycling and the underlying traits for microbial p cycling could analogously be linked with traits for c and n acquisition although less commonly studied than soil c and n interactions p availability may affect land c sink strength at ecosystem and global scales wang et al vitousek et al goll et al and contribute to the regulation of soil c turnover rates even in nominally n limited habitats such as grasslands temperate forests and leaf litter bradford et al manzoni et al strickland et al fisk et al soil p availability may not only affect the biomass of soil microbes griffiths et al zhang et al but critically might also control community scale rates of metabolism strickland et al spohn and chodak which could reflect underlying stoichiometric constraints at the scale of individual cells hartman and richardson as posited by the growth rate hypothesis elser et al cellular growth rates are linked to biomass n p ratios by the high p demands of ribosomal rna which determines in part the rate of synthesis of n rich proteins differentiation of organism c n and p demands based on growth rate variation forms the foundation of ecological stoichiometry theory sterner and elser vrede et al allen and gillooly enabling community shifts under different nutrient regimes to be connected with predictable alterations in ecosystem c cycling particularly in aquatic ecosystems sterner and elser weber and deutsch follows and dutkiewicz hessen et al mock et al development of a parallel framework to link stoichiometric regulation of microbial metabolism to soil c cycling at the community and ecosystem scales is highly desirable hall et al sistla and schimel zechmeister boltenstern et al especially given the integration of stoichiometric regulation of primary producers and decomposition into current terrestrial ecosystem models yang et al reed et al however the inter relationships between soil stoichiometry microbial communities and soil c cycling are not currently well understood in culture microbial growth rates are linked with cell n p stoichiometry and ribosomal rna content or gene copy number makino and cotner karpinets et al keiblinger et al vieira silva and rocha franklin et al which can vary among bacterial lineages mouginot et al roller et al separately variation or manipulation of p availability and stoichiometry in soils has been associated with shifts in microbial community composition g sewell and gessner fanin et al leff et al spohn et al without considering relationships to soil c cycling or metabolic differences among responsive microbes we postulated that ecosystem scale relationships between soil c cycling and p availability may arise due to changes in microbial metabolism which reflect a dependence of growth rates on p availability and are underpinned by shifts in microbial communities based on differences in their nutrient utilization potential we combined plot scale manipulations and measurements of c cycling across a broad soil c n p gradient with high throughput sequencing techniques to address specific hypotheses at different scales of ecological organization including soil c cycling rates are associated with p availability and stoichiometry at the ecosystem scale at the community scale taxonomy and function of microbes are associated with soil p stoichiometry at the individual scale genomic features and potential utilization of c n and p substrates differ characteristically among taxa and across these scales rates of soil c cycling are linked with the abundance of microbial groups defined by differences in stoichiometric resource allocation to enable evaluation of the latter two hypotheses and interrogate relationships across scales we inferred the stoichiometric utilization potential of individual microbes in situ using s rrna and shotgun metagenome sequencing in combination with inference from existing reference genomes langille et al top of pagematerials and methods experimental design and measurement of soil c cycling and chemistrysoils and c flux data were obtained from a ca hectare area under continuous rice cultivation since on twitchell island n w in the sacramento san joaquin delta california usa study plots m were established to test n fertilization effects across a gradient of soil c content in rindge mucky silt loam soils typic halposaprists additional details of this study and site including crop yield and plant n uptake are described by espe et al fertilized plots had solid urea pellets broadcast at a single time point within days of flooding on may a subset of these plots was used to test effects of added n on trace greenhouse gas fluxes in a complete randomized block design with four replicate plots each for control n and kg n ha fertilization n treatments in each of four fields with ca and soil c content total plots fluxes of co ch and no in closed vented soil chambers were measured weekly for the calendar year with complete methods and data described in a companion study ye et al for each plot across the soil c gradient co fluxes were integrated over the inundated period of the rice growing season may august supplementary figure s to match soil collection date instead of using closely correlated annual fluxes ye et al we then calculated soil c turnover the proportion of soil c content in the top cm of soil respired over the growing season as co g co m per g soil c m to account for differences in bulk c supply on soil respiration soil samples were obtained from each of the experimental plots between rows of rice at the end of the growing season august just prior to water drawdown and timed to coincide with peak flooded soil co and ch emissions supplementary figure s ye et al three replicate topsoil samples were taken from each plot cm beneath the soil surface corresponding approximately to the soil horizon anthraquic horizon affected by agricultural activity in paddy soils k gel knabner et al which also harbors the most abundant populations of bacteria lee et al soils from each plot were composited and analyzed for ph chloride and sulfate concentrations total pools of c n and p and extractable nh no and po further details on soil collection processing biogeochemistry and greenhouse gas fluxes are provided in supplementary methods and supplementary table s the relative abundances of c compound classes were determined in lyophilized soils using fourier transformed infrared spectroscopy attenuated total reflection fourier transformed infrared spectroscopy with scans by a thermo scientific waltham ma usa nicolet is ft ir and peak assignments were made following parikh et al microbial community sequencing and data processingsoil dna was extracted from g of homogenized composite sample from each plot using a mobio laboratories carlsbad ca usa powerlyzer powersoil dna extraction kit for metagenomic shotgun sequencing bp insert indexed libraries kapa biosystems wilmington ma usa were pooled per lane on an illumina san diego ca usa hiseq using truseq sbs v chemistry to produce bp length paired end reads yielding gbp per sample after contaminant and quality filtering supplementary methods supplementary table s sequences were annotated via the integrated microbial genomes img pipeline huntemann et al details in supplementary methods gene abundance data calculated using the clusters of orthologous group cog ontology galperin et al and adjusted for contig depth were downloaded from jgi s img database markowitz et al as a gene count by sample table from samples stored under img genome ids across our samples ca of genes were assigned to cogs supplementary table s others were not considered further reads aligning to large subunit ribosomal rna genes of bacterial archaeal fungal and other eukaryotic origins were identified and classified using the metaxa pipeline bengtsson palme et al bacterial and archaeal community composition was determined from soil dna extracts by amplifying the v region of s rrna using barcoded multiplexed primers f and r caporaso et al tremblay et al sequences were processed using a standard pipeline tremblay et al yielding ca unique operational taxonomic units otus at depth of reads per sample details in supplementary methods for imputation of community function by picrust phylogenetic investigation of communities by reconstruction of unobserved states langille et al s rrna sequences were mapped at sequence identity to the greengenes reference database desantis et al for which picrust provides precomputed functional profiles matching ca of sample reads and of abundant otus total reads supplementary table s abundance data from s sequences were corrected for ribosome copy number bias before predicting the abundance of cog ontology functions in soil metagenomes using picrust imputed and sequenced metagenome cog function tables were rarified separately and then both normalized to million cogs sample to compare accuracy of picrust predictions using the evaluate test datsets py function statistical data analysisstatistical relationships were evaluated using packages in the r statistical program r core team and quantitative insights into microbial ecology qiime software caporaso et al relationships between log transformed soil biogeochemical data soil co fluxes and c turnover were screened using linear regression and selected relationships were evaluated using standardized major axis regression with tests of n fertilization interactions r smatr package soil c chemistry by fourier transformed infrared spectroscopy was compared with nutrients and c turnover using partial least squares regression r pls package relationships between c turnover and the abundance of metagenome functions and taxonomic categories aggregated at each taxonomic rank were evaluated using pearson s correlations with control of false discovery rates fdrs at false positive fdr shifts in the abundances of these functions were shown in heatmaps r heatmap using log transformed cog count data which were standardized z score scaled across all soil plots aggregated shifts in c n and p metabolism categorical hierarchy in supplementary table s were compared with soil n p ratios using log box cox or polynomial transformations prior to standardized major axis regression phylogenetic patterns were visualized using the interactive tree of life web interface letunic and bork abundance weighted unifrac distances hamady et al were used to evaluate relationships between phylogenetic community structure soil chemistry and c turnover using mantel s tests while n fertilization effects on community unifrac distance were tested by analysis of similarities each with permutations of samples r vegan fertilization responses of log transformed otu and taxonomic group abundances were tested with indicator species analysis r vegan and using analysis of variance models with fdr qiime category significance py trait differentiation and gradient responses of imputed functionmicrobial genera correlated with soil c turnover fdr were recoded as either positively or negatively correlated and shrinkage linear discriminant analysis r sda was used to test differences among these groups in picrust imputed pathways of c n and p substrate metabolism supplementary table s and ribosome copy numbers we calculated the relative allocation of genes for utilizing available or recalcitrant c n and p substrates for each otu in our soils based on ratios of metabolic categories supplementary table s each otu was scored by its ratio of imputed copy numbers of carbohydrate to aromatic and carboxylic utilization functions ccarb arom while nitrogen utilization was scored on assimilatory vs dissimilatory processes ndiss assim following helton et al and p functions were scored based on ratios of scavenging for example phosphatases vs uptake for example p transporters genes pscav uptk details of functional genes and categories can be found in supplementary methods and supplementary table s patterns of c n and p substrate allocation for each otu were plotted on the three axes ccarb arom ndiss assim and pscav uptk with confidence intervals for major taxonomic groups r plotdrgl adonis non parametric modeling r vegan was used to test the sequential contribution of taxonomic ranks to the three dimensional c n and p allocation of microbial otus using standardized and centered scores relationships between these functional traits including ribosome copy number and microbial community composition were evaluated using a linear model for community assembly by trait selection cats with the mvabund r package warton et al the cats model represents taxon count data as a function of environmental and trait variables with significant trait by environment interactions filtered by lasso indicating trait selection de novo functional guilds were formed using k means clustering r vegan of preselected functional genes related to c n and p substrate metabolism supplementary table s comparisons of microbial community structure s unifrac distance and de novo functional guilds as predictors of trends in soil c cycling were made using mantel s tests to determine correlations between differences in community or guild structure and c turnover using bray curtis dissimilarity matrices guild abundances were also weighted multiplied by their mean ribosome copy number and or ccarb arom allocation values prior to additional mantel s tests to evaluate how accounting for these traits might improve relationships between guild abundances and soil c turnover top of pageresultssoil c cycling mediated by n p availability and c qualitysoil respiration varied significantly along the soil c gradient with effects of n fertilization appearing contingent on ambient nutrient availability the highest cumulative co fluxes occurred at intermediate levels of soil c figure a supplementary figure s while soil c turnover g co c m per g soil c m decreased with soil c content and total n p ratios figures b and d consistent with global scale patterns of higher n p ratios with increasing soil c content figure c soil c turnover was also positively correlated with extractable inorganic p figure e table n fertilization increased both co production and c turnover only in lower c soils and c here termed mineral where n p ratios were less than the ratio of by redfield figures a b and d soil c compounds also varied with c content along the soil gradient with mineral soils containing relatively more carbohydrates and fewer aromatic and carboxylic compounds figure f supplementary figure s than higher c soils and c here termed organic figure c n and p interactions shape soil co flux and soil c turnover effects of soil c content and added n on cumulative growing season co fluxes a and c turnover b from rice soils c soil n p ratios as a function of soil c in rice study plots colors and globally gray soil c turnover as a function of d total n p ratios and e soil available olsen p correlation coefficients r and dashed lines in b d and e show fit of ancova models x n treatment using standardized major axis type ii regression f fourier transformed infrared spectra of soil organic matter framed by high dried leaf tissue and low clay c reference materials colored by field c as in other panels spectra from control soils are shown as solid lines while n fertilized treatments are shown as dashed lines asterisks in a b d and e show differences analysis of variance p among control n and kg n ha treatments n tested separately for each rice field full figure and legend k table statistical relationships among soil c turnover chemistry and prokaryotic community composition by unifrac distance full table shifts in c n and p substrate metabolism associated with c turnovermajor classes of c n and p elemental metabolism in shotgun metagenome data varied with n p ratios along the soil c gradient figure a table with steeper shifts in the relative abundances of aggregated functions for c n and p metabolism appearing near the redfield ratio n p with increasing soil n p ratios and soil c content dominant metabolic pathways shifted from carbohydrate to aromatic carboxylic metabolism and from n dissimilation to assimilation while p scavenging potential increased phosphatases phytases and phosphonate utilization figure a supplementary figures s conversion of these data into ratios representing preference for more or less readily available substrates see materials and methods section revealed increasing use of more resistant c n and p forms with increasing n p along the soil c gradient supplementary figures sa c supplementary table s c n and p substrate utilization patterns were also intertwined with carbohydrate degradation linked to denitrification and p transport and aromatic carboxylic utilization linked with n assimilation and p scavenging supplementary figures sd f supplementary table s figure microbial c n and p substrate use linked with stoichiometry and soil c turnover metabolic classes share color schemes in both panels which compare their abundances in shotgun sequence and picrust imputed data for each study plot a abundance of aggregated metabolic functional classes for c top n middle and p cycling varied strongly with soil n p ratios vertical scales aggregate ortholog counts are displayed for each metabolic category with additional scales for picrust imputed data given in small italics where needed to align data trends but absent if data were on the same scale as metagenome sequence counts b relative abundance of specific metabolic functions correlated with soil c turnover pearson s r fdr among rice soils with both positively and negatively correlated functions shown additional functions for c n and p metabolism that were not correlated with soil c are shown in supplementary figures s s full figure and legend k table regression relationships between soil n p ratios and aggregate categories of c n and p substrate metabolism in metagenome and picrust data shown in figure a full table higher rates of soil c turnover in mineral soils were associated with more abundant carbohydrate degradation genes and inversely correlated with the abundance of aromatic compound utilization and small carboxylic trap transporter genes figure b supplementary figure s soil c turnover was also correlated with the metagenomic abundance of dissimilatory nitrate reduction and negatively correlated with p uptake and p scavenging alkaline and acid phosphatases phytase genes figure b supplementary figures s s metabolic functions predicted based on s profiles using picrust were largely consistent spearman with shotgun metagenome annotations at the plot scale supplementary table s and similarly predicted higher c turnover was linked with more genes for carbohydrate utilization but fewer for carboxylic aromatic utilization or p scavenging figure a though not all patterns were reproduced particularly for n metabolism total eukaryotic and fungal abundances based on large subunit rrna sequences in our metagenome data were generally low and respectively supplementary table s microbial communities varied with c content and turnover not n additionrice soil microbial community membership at the end of the growing season was not significantly altered by n fertilization at any level of soil c supplementary figures sa and d from the perspective of community structure unifrac distances taxonomic groups or individual otus changes in microbial community structure were correlated with each chemical factor along the soil c gradient but were most closely aligned with soil c ph and p stoichiometry table including soil c p n p and extractable inorganic n p partial mantel s tests excluding variance attributable to main study factors of soil c and co varying ph showed significant independent relationships between microbial community structure and soil stoichiometry total p and inorganic p table but not total or inorganic n forms soil c turnover was moderately correlated with shifts in microbial community structure unifrac distance mantel s r with residual variance attributable to soil stoichiometry and inorganic p table the abundances of several lineages were correlated with soil c turnover figure a supplementary figure sb and c supplementary table s including actinobacteria primarily genera within the order actinomycetales chloroflexi anaerolineae and ktedonobacteria and fibrobacteres the phyla actinobacteria chloroflexi and firmicutes also had significantly more otus that were positively correlated with c turnover than were negatively correlated figure a supplementary figures sb and c phyla that were negatively correlated with soil c turnover included euryarchaeota gemmatimonadetes and planctomycetes except isosphaeraceae figure imputed c n and p substrate use and genomic features vary with phylogeny and among otus correlated with soil c turnover a phylogenetic patterns of soil microbes associated with soil c turnover shown at otu level and higher taxonomic ranks r p with imputed genome features and potential use of different c n and p substrates separate color legends are used for microbial taxa their relationships with c turnover and functional categories of c n and p metabolism functional categories are colored as in figure b imputed ribosome copy numbers were enriched among otus that were more strongly correlated with c turnover c functions enriched in otus correlated with higher and lower c turnover based on linear discriminant analysis bars showing significantly different traits are colored to match functional categories in figure and a full figure and legend k imputed microbial traits associated with soil c turnoverotus with increasingly positive correlations to soil c turnover tended to have higher imputed ribosome copy numbers figure b and linear discriminant analysis revealed that ribosome copies were higher on average in organisms positively correlated with c turnover figure c in parallel to community scale functional patterns figure microbes that were positively correlated with c turnover had more abundant carbohydrate utilization and dissimilatory nitrate reduction genes figure c high c turnover organisms also had less p scavenging and more abundant low affinity pit rather than high affinity pst phosphate transporter genes figure c c n and p substrate utilization linked to community composition and c turnovercomparison of imputed genome allocation to c n and p substrates ccarb arom ndiss assim and pscav uptk showed gross differences in substrate and element use strategies among otus figures a and b supplementary figure s with much of the variation attributable to differences among phylum r and class r level taxonomic groupings table figure taxonomic differentiation in c n and p allocation contributes to microbial community assembly a taxonomic differences in stoichiometric allocation where log transformed axes for allocation among c n and p substrates are derived from ratios of broad element classes and data points are individual picrust imputed genomes scaled by total cog count and colored by taxonomic groups b confidence intervals for the major taxonomic groups plotted as three dimensional ellipsoids gray lines in a and b show log zero intercepts for each axis representing ratios for each allocation axis relationships between traits and taxa abundance in our community assembly via trait selection model warton et al illustrated in c were used to evaluate significant environment trait interactions in a joint species distribution model d cats model interaction terms between stoichiometric traits and soil chemical variables for rice soils where color indicates the sign and intensity of interactions for traits aggregated at the order level full figure and legend k table sequential contribution of taxonomic ranks to differentiation of c n and p substrate allocation and genomic features among imputed genomes full table microbial traits for c n and p allocation and ribosome copy number each had significant interactions with soil chemical variables in cats trait selection models warton et al of the joint abundance of microbial orders across plots figures c and d at each taxonomic rank ribosome copy numbers were positively associated with inorganic p concentrations figure d supplementary figure s and had weak negative association with nitrate soil nitrate concentrations had positive interactions with relative allocation to carbohydrates ccarb arom n dissimilation ndiss assim and to a lesser extent p scavenging pscav uptk accounting for variation in these traits improved cats community assembly models considerably compared with null models using only chemical predictors supplementary table s de novo functional groups based on clustering of similar patterns of potential c and nutrient use alone were not more predictive of differences in soil c cycling rates than were differences in s profiles table however weighting the abundance of these groups by simple growth rate related traits including ribosome copy number and carbohydrate allocation ccarb arom considerably improved correlations between soil c turnover and microbial guilds table particularly where n was added to soils r table comparison of de novo stoichiometric guilds with different trait weighting factors and phylogenetic community structure as predictors of soil c turnover full table top of page discussion stoichiometric nutrient limitation of soil c cycling and metabolismin the wetland soils studied c cycling rates appeared dependent on the supply of soil c n and p yet constraints imposed by p availability featured most prominently non linear patterns of soil co fluxes reflected declining soil c turnover rates with increasing organic matter figures a and b one explanation for this decline in soil c turnover is the lower availability of p relative to n as soil c accumulates figure c consistent with global scale patterns hartman and richardson in agreement with our first hypothesis soil c turnover was most closely associated with p availability including n p ratios and inorganic p table figures d and e moreover we observed a breakpoint in n fertilization effects roughly corresponding to the redfield ratio of n p figure d which delineates a shift from n to p limitation redfield sterner and elser cleveland and liptzin similar to interacting effects of n and p additions on soil c cycling in upland soils nottingham et al poeplau et al our results suggest n fertilization altered c cycling only where n was limiting relative to p importantly these results are opposite of those expected from c n ratios alone which would predict n fertilization effects only in high c n organic soils alternately declining c turnover at higher soil c may reflect accumulation of aromatic compounds which are both resistant to degradation and hypothesized to directly inhibit decomposition melillo et al freeman et al accordingly we found aromatic and carboxylic compounds were more abundant in higher c organic soils figure f these shifts were mirrored by changes in microbial c substrate utilization potential in our metagenome data which revealed more carbohydrate degrading genes in mineral soils and greater potential utilization of complex c forms in organic soils figure supplementary figure s notably aromatic compounds were most closely associated with increasing c n c p and n p ratios opposite of inorganic p availability while increasing soil c content was linked with greater abundance of both carbohydrates and aromatics supplementary figure s despite its effects on c turnover n fertilization did not significantly alter microbial metabolic potential or community structure in our rice soils figure supplementary figure sa and d in contrast to upland soils where n fertilization consistently reduces soil c turnover and alters microbial communities ramirez et al fierer et al ramirez et al both nitrous oxide fluxes ye et al and gene abundances for n dissimilation were higher in our mineral soils figure which could suggest excess n availability consistent with their lower c n ratios however n addition increased c turnover only in mineral soils figure and did not alter in situ no fluxes in any of our soils ye et al this decoupling of denitrification from n supply could indicate that denitrifiers are instead limited by available c as suggested by correlated n dissimilation and carbohydrate genes across the gradient figure supplementary figure s p fertilization effects on decomposition also appear to be contingent on the availability of labile c fisk et al nottingham et al poeplau et al the strong relationship we observed between inorganic p availability and c turnover figure in our rice soils resembles coupling of available p with microbial metabolic rates across land use and global habitat types including wetlands strickland et al hartman and richardson we hypothesized that this variation in c cycling and metabolism arises from underlying shifts in microbial community structure and function and that coupling of ecosystem biogeochemical cycles reflects metabolic coupling of element use within and among microbial taxa microbial communities and traits linked with stoichiometry and c cyclingmicrobial community structure varied with several factors along the soil gradient including strong independent relationships with soil p stoichiometry table in agreement with our second hypothesis the abundances of several microbial groups were correlated with soil c turnover including members of the actinobacteria firmicutes chloroflexi some clades of the acidobacteria and narrower groups of proteobacteria and bacteroidetes figure supplementary figure sb c supplementary table s many of these lineages have been previously associated with higher rates of soil c cycling or microbial metabolism fierer et al goldfarb et al fierer et al ramirez et al potentially reflecting their greater carbohydrate utilization potential berlemont and martiny berlemont et al in our soils microbial taxa correlated with c turnover rates were enriched in imputed carbohydrate utilization genes while harboring fewer genes for p scavenging figure consistent with biogeochemical and metabolic shifts observed along the gradient figures and organisms that were highly correlated with soil c turnover also had greater imputed ribosome gene copy numbers figure which are associated with increased growth rates among cultured microbes klappenbach et al shrestha et al vieira silva and rocha roller et al this key trait also integrates growth rates with cellular demand for n and p elser et al underlying functional differentiation and trophic status in higher organisms sterner and elser wright et al arrigo hessen et al trait differentiation underlies community assembly and c cyclingtradeoffs in allocation to resource acquisition and growth contribute to metabolic specialization and niche partitioning among organisms tilman johnson et al edwards et al a litchman et al a b d az et al in our data organisms inferred to use proportionately more carbohydrates had less allocation to p scavenging figure supplementary figure s supplementary table s consistent with their opposing patterns among otus positively or negatively correlated with c turnover figure and with shifts in ecosystem c and p cycling in soil biogeochemical and metagenomic data figures and supplementary figure s allocation to use of c n and p substrates differed among high level taxonomic groups figure supplementary figure s table in agreement with our third hypothesis that genomic features and potential utilization of c n and p substrates would differ characteristically among taxa taxonomic patterns in carbohydrate use and p scavenging in our data also appeared broadly similar to those observed in comparative genomic and metagenomic studies berlemont and martiny berlemont et al chai et al deeply rooted partitioning of nutrient allocation could help account for consistent biogeographic patterns in microbial communities phillipot et al ramirez et al and their responses to fertilization at high taxonomic ranks leff et al spohn et al higher taxonomic ranks also accounted for most of the covariation of microbial communities with chemistry in our soils supplementary table s consistent with results compared across terrestrial and aquatic ecosystems lu et al differences in resource allocation strategies may underlie patterns of community assembly across environmental gradients weber and deutsch edwards et al a b van bodegom et al litchman et al a b our cats models warton et al revealed interactions between soil nutrient availability and genomic resource allocation figure d that suggest differences in nutrient utilization shape community composition genomic allocation to carbohydrate use and n dissimilation both had positive interactions with nitrate concentrations across taxonomic ranks figure supplementary figure s suggesting again that higher denitrification rates ye et al and genetic potential in our mineral soils figure were associated with greater carbohydrate use analogous to coupled mineral n and carbohydrate use in upland soils ramirez et al amend et al although p scavenging allocation was less clearly related to soil nutrient availability ribosome copy numbers had significant positive interactions with inorganic p concentrations at each taxonomic rank tested figure d supplementary figure s this result could suggest that inorganic p availability limits the abundance of high ribosome copy number organisms whose high growth rates and low c use efficiency roller et al may in part account for greater c turnover in our p rich mineral soils this mechanism if observed elsewhere could in part account for large scale relationships between inorganic p availability and microbial metabolic rates across soils strickland et al hartman and richardson incorporation of functional trait variation can enable community driven metabolic modeling of nutrient mediated changes in ecosystem c cycling weber and deutsch bouskill et al litchman et al a martiny et al which may be simplified by accounting for tradeoffs among traits edwards et al johnson et al litchman et al b we tested simplified representations of microbial communities by deriving de novo functional guilds of microbes based on similar patterns of imputed c n and p use accounting for differences in carbohydrate allocation ccarb arom and ribosome copy numbers among these guilds yielded stronger relationships with soil c cycling in our soils than phylogenetic relationships alone table while using fewer free parameters supplementary table s this finding supports our fourth hypothesis that rates of soil c cycling are linked with the abundance of microbial groups defined by differences in stoichiometric resource allocation although this awaits confirmation in other ecosystems top of page conclusion swe observed that c turnover across a large soil c n p gradient is in part mediated by p availability reflecting differences in microbial p metabolism related to growth rates and nutrient use interactions among ecosystem c n and p cycling were mirrored by community metabolic potential and appear related to shifts in community structure arising from trait based environmental filtering of organisms by soil nutrient availability our findings suggest that stoichiometric resource allocation and ribosome copy number are key traits that underpin patterns of microbial community structure and function in some soils and may mediate ecosystem c cycling under multiple nutrient limitation grouping microbes by their resource allocation patterns improved relationships with soil nutrients and c turnover in the rice paddy soils studied and the tradeoffs we observed among traits might help to simplify future efforts to assimilate microbial sequence data into ecosystem models top of pagedata availabilityannotated metagenome sequences are available from the joint genome institute s img database http img jgi doe gov under ids shotgun metagenome and s rrna data are deposited together in the ncbi sequence read archive under sra study numbers srp srp srp srp srp srp and srp srp top of pageconflict of interestthe authors declare no conflict of interest top of page\n"
     ]
    }
   ],
   "source": [
    "# Retrieve one article in full\n",
    "title, subject, article = cursor.execute(\"SELECT title, topic, text FROM articles ORDER BY random() LIMIT 1;\").fetchall()[0]\n",
    "print(\"\\n\", title)\n",
    "print(\"\\nSubject:\", subject)\n",
    "print(\"\\n\\t\", article)"
   ]
  },
  {
   "cell_type": "code",
   "execution_count": 5,
   "metadata": {},
   "outputs": [
    {
     "name": "stdout",
     "output_type": "stream",
     "text": [
      "Subjects in dataset:\n",
      "\n",
      "\t biotechnology\n",
      "\t anatomy\n",
      "\t anthropology\n",
      "\t physics\n",
      "\t psychology\n",
      "\t mathematics-and-computing\n",
      "\t computational-biology-and-bioinformatics\n",
      "\t ecology\n",
      "\t cell-biology\n",
      "\t microbiology\n",
      "\t biogeochemistry\n",
      "\t zoology\n",
      "\t climate-sciences\n",
      "\t neuroscience\n",
      "\t genetics\n",
      "\t cancer\n",
      "\t plant-sciences\n",
      "\t immunology\n",
      "\t chemical-biology\n",
      "\t chemistry\n",
      "\t evolution\n",
      "\t stem-cells\n",
      "\t ocean-sciences\n",
      "\t diseases\n",
      "\t molecular-medicine\n",
      "\t engineering\n",
      "\t materials-science\n",
      "\t nanoscience-and-technology\n",
      "\t drug-discovery\n",
      "\t philosophy\n",
      "\t business-and-industry\n",
      "\t developmental-biology\n"
     ]
    }
   ],
   "source": [
    "subjects = cursor.execute(\"SELECT distinct topic FROM articles;\").fetchall()\n",
    "print(\"Subjects in dataset:\\n\")\n",
    "for s in subjects:\n",
    "    print('\\t',s[0])"
   ]
  },
  {
   "cell_type": "code",
   "execution_count": null,
   "metadata": {},
   "outputs": [],
   "source": []
  }
 ],
 "metadata": {
  "kernelspec": {
   "display_name": "Python 3",
   "language": "python",
   "name": "python3"
  },
  "language_info": {
   "codemirror_mode": {
    "name": "ipython",
    "version": 3
   },
   "file_extension": ".py",
   "mimetype": "text/x-python",
   "name": "python",
   "nbconvert_exporter": "python",
   "pygments_lexer": "ipython3",
   "version": "3.6.4"
  }
 },
 "nbformat": 4,
 "nbformat_minor": 2
}
