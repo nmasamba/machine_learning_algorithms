{
 "cells": [
  {
   "cell_type": "code",
   "execution_count": 1,
   "metadata": {},
   "outputs": [],
   "source": [
    "import sqlite3\n",
    "import pandas as pd\n",
    "from gensim import corpora, models, similarities\n",
    "import nltk\n",
    "from collections import Counter"
   ]
  },
  {
   "cell_type": "code",
   "execution_count": 2,
   "metadata": {},
   "outputs": [
    {
     "name": "stdout",
     "output_type": "stream",
     "text": [
      "Number of unquie articles in dataset:  3147\n"
     ]
    },
    {
     "data": {
      "text/html": [
       "<div>\n",
       "<style scoped>\n",
       "    .dataframe tbody tr th:only-of-type {\n",
       "        vertical-align: middle;\n",
       "    }\n",
       "\n",
       "    .dataframe tbody tr th {\n",
       "        vertical-align: top;\n",
       "    }\n",
       "\n",
       "    .dataframe thead th {\n",
       "        text-align: right;\n",
       "    }\n",
       "</style>\n",
       "<table border=\"1\" class=\"dataframe\">\n",
       "  <thead>\n",
       "    <tr style=\"text-align: right;\">\n",
       "      <th></th>\n",
       "      <th>title</th>\n",
       "      <th>text</th>\n",
       "      <th>url</th>\n",
       "      <th>journal</th>\n",
       "      <th>date</th>\n",
       "    </tr>\n",
       "  </thead>\n",
       "  <tbody>\n",
       "    <tr>\n",
       "      <th>0</th>\n",
       "      <td>Formulating formation mechanism of natural gas...</td>\n",
       "      <td>a large amount of energy perhaps twice the tot...</td>\n",
       "      <td>http://www.nature.com/articles/s41598-017-06717-8</td>\n",
       "      <td>Scientific Reports</td>\n",
       "      <td>25 July 2017</td>\n",
       "    </tr>\n",
       "    <tr>\n",
       "      <th>1</th>\n",
       "      <td>Endolysosomal targeting of a clinical chlorin ...</td>\n",
       "      <td>a major problem with many promising nano sized...</td>\n",
       "      <td>http://www.nature.com/articles/s41598-017-06109-y</td>\n",
       "      <td>Scientific Reports</td>\n",
       "      <td>20 July 2017</td>\n",
       "    </tr>\n",
       "    <tr>\n",
       "      <th>2</th>\n",
       "      <td>The trophic role of a large marine predator, t...</td>\n",
       "      <td>tiger sharks were sampled off the western ning...</td>\n",
       "      <td>http://www.nature.com/articles/s41598-017-07751-2</td>\n",
       "      <td>Scientific Reports</td>\n",
       "      <td>09 August 2017</td>\n",
       "    </tr>\n",
       "    <tr>\n",
       "      <th>3</th>\n",
       "      <td>Projection of American dustiness in the late 2...</td>\n",
       "      <td>climate models project rising drought risks ov...</td>\n",
       "      <td>http://www.nature.com/articles/s41598-017-05431-9</td>\n",
       "      <td>Scientific Reports</td>\n",
       "      <td>17 July 2017</td>\n",
       "    </tr>\n",
       "    <tr>\n",
       "      <th>4</th>\n",
       "      <td>Programmable Deployment of Tensegrity Structur...</td>\n",
       "      <td>tensegrity structures with detachedstruts are ...</td>\n",
       "      <td>http://www.nature.com/articles/s41598-017-03412-6</td>\n",
       "      <td>Scientific Reports</td>\n",
       "      <td>14 June 2017</td>\n",
       "    </tr>\n",
       "  </tbody>\n",
       "</table>\n",
       "</div>"
      ],
      "text/plain": [
       "                                               title  \\\n",
       "0  Formulating formation mechanism of natural gas...   \n",
       "1  Endolysosomal targeting of a clinical chlorin ...   \n",
       "2  The trophic role of a large marine predator, t...   \n",
       "3  Projection of American dustiness in the late 2...   \n",
       "4  Programmable Deployment of Tensegrity Structur...   \n",
       "\n",
       "                                                text  \\\n",
       "0  a large amount of energy perhaps twice the tot...   \n",
       "1  a major problem with many promising nano sized...   \n",
       "2  tiger sharks were sampled off the western ning...   \n",
       "3  climate models project rising drought risks ov...   \n",
       "4  tensegrity structures with detachedstruts are ...   \n",
       "\n",
       "                                                 url             journal  \\\n",
       "0  http://www.nature.com/articles/s41598-017-06717-8  Scientific Reports   \n",
       "1  http://www.nature.com/articles/s41598-017-06109-y  Scientific Reports   \n",
       "2  http://www.nature.com/articles/s41598-017-07751-2  Scientific Reports   \n",
       "3  http://www.nature.com/articles/s41598-017-05431-9  Scientific Reports   \n",
       "4  http://www.nature.com/articles/s41598-017-03412-6  Scientific Reports   \n",
       "\n",
       "             date  \n",
       "0    25 July 2017  \n",
       "1    20 July 2017  \n",
       "2  09 August 2017  \n",
       "3    17 July 2017  \n",
       "4    14 June 2017  "
      ]
     },
     "execution_count": 2,
     "metadata": {},
     "output_type": "execute_result"
    }
   ],
   "source": [
    "# This work uses latent Dirichlet allocation to analyse journal articles from Nature.com\n",
    "# Nature doesn't seem to have an API so the documents were scraped and stored in a SQLite database\n",
    "# The sqlite database can be extracted from the zip folder called article_db\n",
    "# The scripts used to scrape the data: collect-articles-html.py, process-scraped-html.py\n",
    "\n",
    "conn = sqlite3.connect('./database/nature_articles.db')\n",
    "cursor = conn.cursor()\n",
    "num_articles = cursor.execute('SELECT count(distinct title) FROM articles WHERE wc > 1500;').fetchall()[0][0]\n",
    "print('Number of unquie articles in dataset: ', num_articles)\n",
    "\n",
    "df = pd.read_sql_query(\"SELECT distinct(title), text, url, journal, date FROM articles WHERE wc > 1500 ORDER BY random();\",\n",
    "                       conn)\n",
    "df.head()"
   ]
  },
  {
   "cell_type": "code",
   "execution_count": 3,
   "metadata": {},
   "outputs": [
    {
     "name": "stdout",
     "output_type": "stream",
     "text": [
      "\n",
      " Global Trends and Regional Variations in Studies of HIV/AIDS\n",
      "\n",
      "Subject: psychology\n",
      "\n",
      "\t we conduct textual analysis of a sample of more than papers written on hiv aids during the past three decades using the latent dirichlet allocation method we disentangle studies that address behavioral and social aspects from other studies and measure the trends of different topics as related to hiv aids we show that there is a regional variation in scientists approach to the problem of hiv aids our results show that controlling for the economy proximity to the hiv aids problem correlates with the extent to which scientists look at the behavioral and social aspects of the disease rather than biomedical introduction since it was first detected in the early s aids has been studied by scientists around the world biomedical and epidemiological scientists have made substantial progress in understanding and controlling the disease over time in the early years hiv was discovered to be the cause of aids later scientists uncovered the modes of transmission and developed blood tests for diagnosing hiv by the early s the first antiviral drugs were developed to suppress hiv together these developments and efforts to educate vulnerable populations about the transmission mechanisms slowed down the progress of thedisease during the mid s at least in the united states yet it was also in the decade of the s that the hiv aids epidemic reached its peak in sub saharan africa eventually as a result of global and regional efforts to control the epidemic both the hiv incidence and aids related death rates have dropped after the year the complexity of the hiv aids problem goes beyond biomedical aspects of the disease many challenges are behavioral and social such as public awareness of the disease risk perception high risk behaviors willingness to be tested social stigma and treatment adherence the infectious nature of the disease also adds to the social network complexity of the problem and to infection patterns numerous multi disciplinary studies have been conducted to uncover these socio behavioral aspects of the disease from the early years behavioral studies have shed light on the psychological factors corresponding to risky behaviors that can lead to hiv infection along the same line of research preventive behavioral studies have focused on reducing the chances of being infected by hiv and alleviating the adverse outcomes for patients with hiv these studies have examined how people can avoid risky behaviors by becoming more knowledgeable motivated and capable in the context of avoiding hiv infection hiv aids is a disease with strong social stigma attached to it in many societies sociologists and anthropologists have contributed to hiv aids research by proposing theories and models to understand and overcome this stigma overall the behavioral and social sciences bss studies have helped in shaping a better understanding of the disease recognizing people with the highest risk designing preventive programs and maintaining medical treatment for current patients cumulatively studies conducted by scientists within the fields of biomedical sciences and bss have shaped our understanding of hiv aids as a global problem despite this ostensible shared understanding the knowledge production process orbiting around the problem of hiv aids has happened incrementally over decades of research and within the context of scientific enterprise in many countries around the world yet little is known about the trends of research and shifts in focus of researchers as related to the problem of hiv aids in this study we investigate shifts in the scientific communitys focus on bss aspects of hiv aids through a textual analysis of more than hiv aids publications in the scopus data set our goal is to evaluate global and regional trends and potential variations in research one finding of our study is that in the case of hiv aids the share of bss research has been increasing over time and controlling for the economy geographical proximity to the problem is associated with more bss studies data hiv aids publications between and we constructed a dataset of all academic papers on the topic of hiv aids as reported in the scopus data set totaling papers these papers were published on a variety of subjects related to hiv aids during the period to our criteria for inclusion of the papers in our dataset were existence of the words hiv or aids in the title or abstract of papers for the analysis we used the abstract of the papers year of publication and location of authors based on their institutional affiliations locations of authors were used to assign a paper to one or multiple countries for example a paper with authors from three different countries was assigned to those three countries in the first stage we excluded papers lacking an abstract which reduced our dataset to a total of papers we first conducted a set of descriptive analysis at the aggregate level as reported in fig figurea shows that the annual publication of scientific research on hiv aids has been increasing since except for the period between and in the annual publication rate was about papers per year which shows almost growth in a decade figureb reports collaboration patterns the average number of authors per paper increased over time indicating that research in the field has become more collaborative in particular the average number of authors per paper increased from about in the s and s to about authors per paper in moreover as fig c shows more countries have been involved in these studies over time and it is fair to say that the problem of hiv aids has become a global field of research as the figure shows scientists in countries had at least one publication on this topic in figure trends in hiv aids publications a global trend of publication b average number of authors per paper c number of countries contributing to hiv aids research full size imageincreasing focus on bss aspects of hiv aidsin the next step we conducted textual analysis looking at the abstract of hiv aids publications over time methodologically we implemented the latent dirichlet allocation lda on our data set more information about lda is provided in the method section in short in the lda method topics are identified based on the frequency of appearance and co appearance of different words within all the documents our textual analysis of all paper abstracts shows an increasing trend in the share of bss among hiv aids publications fig in the share of bss topics in hiv aids research publications was more than figure share of aggregate bss topics left axis and five individual topics right axis in hiv aids research over time full size imagewe also tracked the trends of individual bss topics over time as examples fig shows the share of five individual topics in hiv aids research i e prevention intervention mental health sexual risks social support stigma and drug users the remainder are reported in the si some of these topics are gaining increasing attention in the scientific community for example the prevention intervention mental health sexual risks and social support stigma topics are all increasingly studied some other bss topics such as drug users show a declining trend in the share of publications in hiv aids field since the beginning of the st century regional variation in bss focus of hiv aids studiesdifferent countries have shown different level of focus on bss in their hiv aids research portfolio as fig illustrates the share of bss in hiv aids publications from namibia bangladesh and botswana is above meanwhile this proportion is less than in austria south korea and japan figure share of bss research in all hiv aids papers of different countries note for example share of bss research for ethiopia is shown at meaning that of hiv aids research content published by ethiopian authors is on bss topics only countries are shown that have published more than papers during the period to color coded by total number of hiv aids papers full size imagewe observe a regional variation in bss study trends as fig shows figurea shows varying regional trajectories in bss studies of hiv aids in sub saharan africa for instance far more attention has been paid to bss studies than elsewhere the share of bss studies among all hiv aids research publications of sub saharan african countries has been above since in other regions the share of bss research has been increasing the growth rate has been faster in south and southeast asia with an average growth rate of per year and north america with an average growth rate of per year compared with western europe with an average growth rate of per year figure regional variation in trends of bss topics in the context of hiv aids research na north america we western europe as south and southeast asia af sub saharan africa full size imageregional variation also exists among individual topics figurebf demonstrate these variations for five sub topics of bss i e prevention intervention mental health sexual risks social support stigma and drug users we observe that sub saharan africa and northern america have shown more interest in intervention prevention than western europe and south and southeast asia on the topic of mental health and sexual risks as related to hiv aids the attention of north american scientists has been the highest in comparison to other regions we observe that western europe showed a high interest in topic of drug users in the earlier years but this interest has recently faded all regions have shown an increasing interest in the social support stigma topic since the trend has been increasing at a higher rate for sub saharan africa why does this variation between different regions in terms of their focus on the bss aspects of hiv aids exist to study what drives bss focus in hiv aids research we perform a panel data regression analysis the factors we include in our analysis are the hiv aids mortality rate and gdp per capita we expect hiv aids mortality to be associated with how researchers and science policy makers perceive the problem of hiv aids we represent the magnitude of the problem by hiv aids mortality rate using the hiv mortality data from the global burden of disease study available from http ghdx healthdata org global burden disease study gbd data downloads our bss related question is whether the higher rate of the problem is associated with higher bss studies one other potential explanation for research focus is the research capacity or financial resources available for research biomedical research is more costly by having more resources available for research we expect that affluent countries be more capable of conducting biomedical research this can affect the relative share of bss in research portfolio of these countries in our analysis we control for gdp per capita as a proxy for countries economic prosperity our regression analysis shows there is a positive association between countries hiv aids mortality rate and the ratio of bss topics in their research publications on hiv aids p the detailed results are reported in the methods section for the sake of simplicity fig depicts the correlation for relationship between percentage of bss and hiv aids mortality rate and for relationship between percentage of bss and gdp per capita our analysis also provides evidence that supports a negative correlation between gdp per capita in countries and the ratio of bss topics in their publications p figure bss focus of publications from different countries average during the period to compared to their hiv aids mortality rate in and gdp per capita average during to each dot corresponds to a country red north america western europe yellow southern southeast asia gray sub saharan africa blue rest of the world the solid lines show the correlation lines countries that are two standard deviation further from the correlation line are labeled full size image discussion by constructing and analyzing a large data set of more than papers and by implementing a statistical natural language processing method latent dirichlet allocation we were able to investigate the trends of studies in hiv aids research in different regions we found interesting trends in behavioral and social studies of hiv aids we observe that there is variation among different countries in terms of their focus on hiv aids the bss focus has on average been the highest in sub saharan africa furthermore we find an association between hiv aids mortality and the percentage of bss topics in hiv aids research if we assume scientists responses to a problem are informed by the nature of the problem they observe in their proximity our findings will have several implications the scientific communitys focus on the same medical disease may vary across different regions and times and this could speak to the varying nature of a seemingly similar disease in different regions and different time periods if one assumes that a societys understanding of a problem materializes in the form of scientific publications our findings imply that the problem of hiv aids is conceived to be more behavioral and social in places with higher mortality rates the takeaway from this finding for science policy makers is that in defining priorities of research for a specific problem the problem should not be looked at from an isolated perspective to the contrary it is of the utmost importance to nail down the problem in the context of each country and set priorities based on that perspective our findings can be seen in the light of several prior science policy studies the concept of reconciling supply of science with societies demand implies that scientists approach to study a disease can partially reflect societal demand under this concept a higher focus on the bss aspects of hiv aids in a country implies that those aspects of hiv aids are perceived to be more critical in that region such premise seems reasonable the broadly adverse social cultural and economic effects of hiv aids on regions with high prevalence has made it a challenging epidemic to be tackled in those regions on the other hand in low prevalence countries more focus on biomedical studies may reflect the different nature of the same disease in those regions in countries with less significant health challenges we often observe higher literacy better quality of life and more awareness about health consequently less stress is placed on behavioral and social interventions than biomedical solutions this premise is in line with medicalization and biomedicalization of health as studied by sociologists of health e g ref we have also shown a negative association between gdp per capita and the ratio of bss research in the contest of hiv aids this result is in line with previous studies that have shown affluent countries publish more biomedical papers furthermore our findings resonate with recent arguments on significant contributions of behavioral and social sciences to health we focused on journal publications but we admit that they are not the ideal representation of all research activities around a topic some research studies may not turn to journal publications and some may fail to get published different journals and different fields also have different standards and norms for publications we also acknowledge that gdp per capita is not an accurate proxy for research spending of different countries however as used in other past science policy studies e g ref gdp is a well established measure for economy with relatively accurate data many other measures such as research spending are inconsistently calculated for different countries and moreover are not available for all countries we think these limitations can be addressed in other future studies our study was a first major step and benefited from incorporating data analytics to uncover behavioral and social science contributions to health we report details of our constructed data set in si methods topic modelingdifferent techniques can be used to extract the bss theme within publications on hiv aids simple approaches include inference solely based on keywords and authors departmental affiliations these are easy to implement but have limitations assuming keywords are a sufficient description of content and that different keywords have the same weight in describing an entire paper is too simplistic departmental affiliation is not necessarily an accurate indicator of an authors research for example faculty members in a public health department may do different types of research and address different topics furthermore the relative weight of each keyword or contribution of each author in a given publication is unclear is a paper with three authors each one affiliated with three different departments of psychology medicine and public health a bss paper if so what topic within bss one needs to go deeper into the content of the paper to answer these questions advancements in the data sciences help us conduct a more precise analysis we address this methodological issue by using a bayesian statistical technique known as latent dirichlet allocation lda that helps find the latent topics that generate a set of documents the underlying assumption of this method is that documents consist of probability distributions over a set of topics while topics are probability distributions over the set of unique words or corpus that generate the entire set of documents the output of an lda implementation over a set of documents includes two pieces a probability distribution over topics for each of the documents and a probability distribution over all unique words within the data set for each of the topics the first output helps us know which topics are generating a given document and the second output helps us define each of the topics lda has been applied in a wide range of studies including science and innovation studies for more information on the method see ref in this paper we use the abstracts of papers as the set of documents to implement lda after removing the common words in english by using a standard stop list we generated the corpus of unique words that generates all abstracts in our data set the size of this corpus was unique words in our analysis we limited the set of unique words only to the ones that have been repeated in at least abstracts by applying this rule the size of our corpus was reduced to unique words to implement lda three parameters need to be specified the number of topics a topic smoothing coefficient and a term smoothing coefficient to have a model with a better fit using large number of topics is recommended this however poses the problem of confronting topics that are indistinguishable in a meaningful way for human understanding in some prior topic modeling applications in the context of science and innovation researchers have chosen to use topics for their analysis following their lead we also chose topics to implement lda in our data set for topic and term smoothing parameters has typically been chosen as the default value however since we are looking for more finely separated topics and since the topic space of our documents is narrower all papers are about hiv aids we reduced the term smoothing parameter to this helps us have more discrete topics we used the python lda package to perform our analysis available at https pypi python org pypi lda many of the topics generated by the lda do not necessarily show a discipline or field of research in fact each abstract is a mixture of all the topics with different probabilities however we expect that on average topics belonging to bss studies will have higher probabilities assigned to them in bss publications based on this assumption we anticipate that pairs of topics related to a specific body of knowledge are more likely to have co occurrence probability defined as the multiplication of the individual probabilities in a publication compared with a pair of topics each related to a different fields of study by making this assumption we can look at the co occurrence network of the topics as uncovered by lda to find fields of research within our publication data set we generate the topic network by considering the five most probable topics of each document each of these five have on average a probability higher than moreover their average cumulative probability is greater than in our topic network each node represents a topic topics are connected to each other based on their co occurrence probability in all papers the louvain clustering was implemented on this network to find the communities of topics corresponding to fields of research three clusters were found cluster includes topics related to medical case studies cluster includes bss topics and cluster includes biomedical topics the individual topics and these clusters are reported in the si the robustness of these clusters against variability of input data was confirmed through sensitivity analysis for random sub samples of papers results are presented in the si as another robustness check we also generated a network with the eleven most probable topics of each paper each of these eleven topics on average have probabilities higher than performing louvain clustering on this network provided us with very similar clusters finally we would like to mention that a benefit of using lda is to count for multidisciplinary works since in this method a topic of a paper is a probability distribution over different potential topics a paper can be considered as x bss and y biomedical these percentages are estimated based on the words used in the abstracts panel regression analysisto investigate the variation among different countries in terms of their focus on bss aspects of hiv aids we performed a panel data regression analysis as mentioned earlier we had access to publication data for the period to the hiv aids mortality rate estimates are available for the years and in our analysis we regressed the average share of bss topics during years i to i on the hiv aids mortality rate of countries in year i controlling for their average gdp per capita during those years overall our analysis includes panels countries with more than papers on the topic hiv aids during the period for which we have four observations i took the values and table reports the summary of our regression analysis we used a pooled least squares regression with driscoll kraay standard errors in our main model model due to the nature of our problem we are concerned about heteroscedasticity and autocorrelation in our regression analysis however the selected model is robust against heteroskedasticity and autocorrelation other potential models such as huber white and newey west have also been used to confirm our regression results see the results in si due to the small number of observations per panel we did not use a fixed effect model in our analysis as we did not have enough variation we tested for multicollinearity in our data and did not find an evidence for a potential problem un centered vif table panel data regression results for percentage of bss topics full size tableas a robustness check for our model selection we performed the same analysis in model with another approach in model we used a generalized least square model with heteroskedastic panels and first order autoregression as table shows the results from models and are very similar however since it is recommended to use the generalized least square model when the number of observations per panel is larger than the number of panels we selected model as our primary model in this paper overall our models offer consistent results showing a positive association between hiv aids mortality rate of countries and their focus on bss aspects of hiv aids our models also provide evidence to support a negative association between gdp per capita of countries and share of bss in their hiv aids publications \n"
     ]
    }
   ],
   "source": [
    "# Retrieve one article in full\n",
    "title, subject, article = cursor.execute(\"SELECT title, topic, text FROM articles ORDER BY random() LIMIT 1;\").fetchall()[0]\n",
    "print(\"\\n\", title)\n",
    "print(\"\\nSubject:\", subject)\n",
    "print(\"\\n\\t\", article)"
   ]
  },
  {
   "cell_type": "code",
   "execution_count": 4,
   "metadata": {},
   "outputs": [
    {
     "name": "stdout",
     "output_type": "stream",
     "text": [
      "Subjects in dataset:\n",
      "\n",
      "\t biotechnology\n",
      "\t anatomy\n",
      "\t anthropology\n",
      "\t physics\n",
      "\t psychology\n",
      "\t mathematics-and-computing\n",
      "\t computational-biology-and-bioinformatics\n",
      "\t ecology\n",
      "\t cell-biology\n",
      "\t microbiology\n",
      "\t biogeochemistry\n",
      "\t zoology\n",
      "\t climate-sciences\n",
      "\t neuroscience\n",
      "\t genetics\n",
      "\t cancer\n",
      "\t plant-sciences\n",
      "\t immunology\n",
      "\t chemical-biology\n",
      "\t chemistry\n",
      "\t evolution\n",
      "\t stem-cells\n",
      "\t ocean-sciences\n",
      "\t diseases\n",
      "\t molecular-medicine\n",
      "\t engineering\n",
      "\t materials-science\n",
      "\t nanoscience-and-technology\n",
      "\t drug-discovery\n",
      "\t philosophy\n",
      "\t business-and-industry\n",
      "\t developmental-biology\n"
     ]
    }
   ],
   "source": [
    "subjects = cursor.execute(\"SELECT distinct topic FROM articles;\").fetchall()\n",
    "print(\"Subjects in dataset:\\n\")\n",
    "for s in subjects:\n",
    "    print('\\t',s[0])"
   ]
  },
  {
   "cell_type": "code",
   "execution_count": 6,
   "metadata": {},
   "outputs": [],
   "source": [
    "def render_topics(subjects, num_topics=3, stem=False, filter_n_most_common_words=500, num_words=30):\n",
    "    if isinstance(subjects, str):\n",
    "        df = pd.read_sql_query(\"SELECT distinct(title), text FROM articles WHERE wc > 1500 and topic = '{}';\".format(subjects),\n",
    "                               conn)\n",
    "        \n",
    "    \n",
    "    else:\n",
    "        df = pd.read_sql_query(\"SELECT distinct(title), text FROM articles WHERE wc > 1500 and topic IN {};\".format(subjects),\n",
    "                               conn)\n",
    "    \n",
    "    docs = df['text'].values\n",
    "    split_docs = [doc.split(' ') for doc in docs]\n",
    "    doc_words = [words for doc in split_docs for words in doc]\n",
    "    wcount = Counter()\n",
    "    wcount.update(doc_words)\n",
    "    stopwords = nltk.corpus.stopwords.words('english') + ['introduction','conclusion'] # filter out terms used as section titles in most research papers\n",
    "    for w, _ in wcount.most_common(filter_n_most_common_words):\n",
    "        stopwords.append(w)\n",
    "        \n",
    "    if stem == True:\n",
    "        docs = [stem_and_stopword_filter(doc, stopwords) for doc in docs]\n",
    "    else:\n",
    "        docs = [stopword_filter(doc, stopwords) for doc in docs]\n",
    "    dictionary = corpora.Dictionary(docs)\n",
    "    corpus = [dictionary.doc2bow(doc) for doc in docs]\n",
    "    lda_model = models.LdaMulticore(corpus, id2word=dictionary, num_topics=num_topics)\n",
    "    topics = lda_model.show_topics(formatted=False, num_words=num_words)\n",
    "    \n",
    "    print(subjects)\n",
    "    \n",
    "    for t in range(len(topics)):\n",
    "        print(\"\\nTopic {}, top {} words:\".format(t+1, num_words))\n",
    "        print(\" \".join([w[0] for w in topics[t][1]]))\n",
    "        \n",
    "    \n",
    "        \n",
    "        \n",
    "def stem_and_stopword_filter(text, filter_list):\n",
    "    stemmer = nltk.stem.snowball.SnowballStemmer('english')\n",
    "    return [stemmer.stem(word) for word in text.split() if word not in filter_list and len(word) > 2]\n",
    "\n",
    "def stopword_filter(text, filter_list):\n",
    "    return [word for word in text.split() if word not in filter_list and len(word) > 2]"
   ]
  },
  {
   "cell_type": "code",
   "execution_count": 8,
   "metadata": {},
   "outputs": [
    {
     "name": "stdout",
     "output_type": "stream",
     "text": [
      "philosophy\n",
      "\n",
      "Topic 1, top 30 words:\n",
      "environmental deliberation ssh particularly funding actors standard climate digital actual benefits types national seen kantian music models traditional literature instance projects ipcc past city perspective central external politics heidegger several\n",
      "\n",
      "Topic 2, top 30 words:\n",
      "ssh christ funding collaboration identity interior environment field attitudes projects theatre stakeholders taken published transcendence light disciplines suggest single never exist integration size major forces basic peace final main programmes\n",
      "\n",
      "Topic 3, top 30 words:\n",
      "interior ngs technologies ipcc seems children samples child christ national views hope minors empirical law procedures impact regard address peace described acts private deliberation light critique later greater essential existing\n",
      "\n",
      "Topic 4, top 30 words:\n",
      "pgt consumers communication mohr screening diseases immanence existing ukk theatre concerns internal appropriate technologies every directly taken sloterdijk ontological debate www external acts law providers structures actual central csfs suggests\n",
      "\n",
      "Topic 5, top 30 words:\n",
      "stakeholder strategy aim ifs reasons attitudes compromise http internal genotype biobanking sample lead heinz aims hcps address org additional interior essential recontact exist principles debate central appropriate existing stakeholders standard\n",
      "\n",
      "Topic 6, top 30 words:\n",
      "advance directive event faith alzheimers paul theological autonomy preference points genotype argued identity principles object linguistic action privacy smart reasons samples ability calls multitude practices humans remains argues women included\n",
      "\n",
      "Topic 7, top 30 words:\n",
      "faith event kantian hermeneutical holy sacred understood genocide heidegger muslim turn actual cultural neither neoliberal fascism christ thoughts around far mean former responsible calls understand later central debate cognitive perspective\n",
      "\n",
      "Topic 8, top 30 words:\n",
      "greed ses unethical computing replication owed interaction immanence transcendence behavior laws effects seen environment structure action external vices behaviour security greater importance rational traits economic reasons csp acts exist mysticism\n",
      "\n",
      "Topic 9, top 30 words:\n",
      "pgt consumers www diseases com http provision recontact models andme offer essential providers economic transcendence climate provides taking contemporary services instance associated directly direct professional factors genotype seen law acts\n"
     ]
    }
   ],
   "source": [
    "# specific subjects to analyze for topics as a tuple of strings\n",
    "# ie subjects = ('philosophy', 'nanoscience-and-technology', 'biotechnology')\n",
    "subjects = ('philosophy')\n",
    "\n",
    "render_topics(subjects, num_topics=9, stem=False, filter_n_most_common_words=500)"
   ]
  },
  {
   "cell_type": "code",
   "execution_count": null,
   "metadata": {},
   "outputs": [],
   "source": []
  }
 ],
 "metadata": {
  "kernelspec": {
   "display_name": "Python 3",
   "language": "python",
   "name": "python3"
  },
  "language_info": {
   "codemirror_mode": {
    "name": "ipython",
    "version": 3
   },
   "file_extension": ".py",
   "mimetype": "text/x-python",
   "name": "python",
   "nbconvert_exporter": "python",
   "pygments_lexer": "ipython3",
   "version": "3.6.4"
  }
 },
 "nbformat": 4,
 "nbformat_minor": 2
}
