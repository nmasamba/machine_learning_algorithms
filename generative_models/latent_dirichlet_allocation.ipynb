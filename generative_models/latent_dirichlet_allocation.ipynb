{
 "cells": [
  {
   "cell_type": "code",
   "execution_count": 1,
   "metadata": {},
   "outputs": [],
   "source": [
    "import sqlite3\n",
    "import pandas as pd\n",
    "from gensim import corpora, models, similarities\n",
    "import nltk\n",
    "from collections import Counter"
   ]
  },
  {
   "cell_type": "code",
   "execution_count": 3,
   "metadata": {},
   "outputs": [
    {
     "name": "stdout",
     "output_type": "stream",
     "text": [
      "Number of unquie articles in dataset:  3147\n"
     ]
    },
    {
     "data": {
      "text/html": [
       "<div>\n",
       "<style scoped>\n",
       "    .dataframe tbody tr th:only-of-type {\n",
       "        vertical-align: middle;\n",
       "    }\n",
       "\n",
       "    .dataframe tbody tr th {\n",
       "        vertical-align: top;\n",
       "    }\n",
       "\n",
       "    .dataframe thead th {\n",
       "        text-align: right;\n",
       "    }\n",
       "</style>\n",
       "<table border=\"1\" class=\"dataframe\">\n",
       "  <thead>\n",
       "    <tr style=\"text-align: right;\">\n",
       "      <th></th>\n",
       "      <th>title</th>\n",
       "      <th>text</th>\n",
       "      <th>url</th>\n",
       "      <th>journal</th>\n",
       "      <th>date</th>\n",
       "    </tr>\n",
       "  </thead>\n",
       "  <tbody>\n",
       "    <tr>\n",
       "      <th>0</th>\n",
       "      <td>Deformation pattern in vibrating microtubule: ...</td>\n",
       "      <td>the mechanical properties of microtubules are ...</td>\n",
       "      <td>http://www.nature.com/articles/s41598-017-04272-w</td>\n",
       "      <td>Scientific Reports</td>\n",
       "      <td>26 June 2017</td>\n",
       "    </tr>\n",
       "    <tr>\n",
       "      <th>1</th>\n",
       "      <td>Clay illuviation provides a long-term sink for...</td>\n",
       "      <td>soil plays a key role in the global carbon c c...</td>\n",
       "      <td>http://www.nature.com/srep/2017/170406/srep456...</td>\n",
       "      <td>Scientific Reports</td>\n",
       "      <td>06 April 2017</td>\n",
       "    </tr>\n",
       "    <tr>\n",
       "      <th>2</th>\n",
       "      <td>Soil microbial community structure and catabol...</td>\n",
       "      <td>this study examined the hypotheses that soil m...</td>\n",
       "      <td>http://www.nature.com/articles/s41598-017-06768-x</td>\n",
       "      <td>Scientific Reports</td>\n",
       "      <td>27 July 2017</td>\n",
       "    </tr>\n",
       "    <tr>\n",
       "      <th>3</th>\n",
       "      <td>Uniting the neuro developmental and immunologi...</td>\n",
       "      <td>current pathophysiological models of schizophr...</td>\n",
       "      <td>http://www.nature.com/articles/s41598-017-03736-3</td>\n",
       "      <td>Scientific Reports</td>\n",
       "      <td>23 June 2017</td>\n",
       "    </tr>\n",
       "    <tr>\n",
       "      <th>4</th>\n",
       "      <td>Persistent LHPA Activation in German Individua...</td>\n",
       "      <td>parental upbringing may affect their offspring...</td>\n",
       "      <td>http://www.nature.com/articles/s41598-017-01718-z</td>\n",
       "      <td>Scientific Reports</td>\n",
       "      <td>05 June 2017</td>\n",
       "    </tr>\n",
       "  </tbody>\n",
       "</table>\n",
       "</div>"
      ],
      "text/plain": [
       "                                               title  \\\n",
       "0  Deformation pattern in vibrating microtubule: ...   \n",
       "1  Clay illuviation provides a long-term sink for...   \n",
       "2  Soil microbial community structure and catabol...   \n",
       "3  Uniting the neuro developmental and immunologi...   \n",
       "4  Persistent LHPA Activation in German Individua...   \n",
       "\n",
       "                                                text  \\\n",
       "0  the mechanical properties of microtubules are ...   \n",
       "1  soil plays a key role in the global carbon c c...   \n",
       "2  this study examined the hypotheses that soil m...   \n",
       "3  current pathophysiological models of schizophr...   \n",
       "4  parental upbringing may affect their offspring...   \n",
       "\n",
       "                                                 url             journal  \\\n",
       "0  http://www.nature.com/articles/s41598-017-04272-w  Scientific Reports   \n",
       "1  http://www.nature.com/srep/2017/170406/srep456...  Scientific Reports   \n",
       "2  http://www.nature.com/articles/s41598-017-06768-x  Scientific Reports   \n",
       "3  http://www.nature.com/articles/s41598-017-03736-3  Scientific Reports   \n",
       "4  http://www.nature.com/articles/s41598-017-01718-z  Scientific Reports   \n",
       "\n",
       "            date  \n",
       "0   26 June 2017  \n",
       "1  06 April 2017  \n",
       "2   27 July 2017  \n",
       "3   23 June 2017  \n",
       "4   05 June 2017  "
      ]
     },
     "execution_count": 3,
     "metadata": {},
     "output_type": "execute_result"
    }
   ],
   "source": [
    "# This work uses latent Dirichlet allocation to analyse journal articles from Nature.com\n",
    "# Nature doesn't seem to have an API so the documents were scraped and stored in a SQLite database\n",
    "# The sqlite database can be extracted from the zip folder called article_db\n",
    "# The scripts used to scrape the data: collect-articles-html.py, process-scraped-html.py\n",
    "\n",
    "conn = sqlite3.connect('./database/nature_articles.db')\n",
    "cursor = conn.cursor()\n",
    "num_articles = cursor.execute('SELECT count(distinct title) FROM articles WHERE wc > 1500;').fetchall()[0][0]\n",
    "print('Number of unquie articles in dataset: ', num_articles)\n",
    "\n",
    "df = pd.read_sql_query(\"SELECT distinct(title), text, url, journal, date FROM articles WHERE wc > 1500 ORDER BY random();\",\n",
    "                       conn)\n",
    "df.head()"
   ]
  },
  {
   "cell_type": "code",
   "execution_count": null,
   "metadata": {},
   "outputs": [],
   "source": []
  }
 ],
 "metadata": {
  "kernelspec": {
   "display_name": "Python 3",
   "language": "python",
   "name": "python3"
  },
  "language_info": {
   "codemirror_mode": {
    "name": "ipython",
    "version": 3
   },
   "file_extension": ".py",
   "mimetype": "text/x-python",
   "name": "python",
   "nbconvert_exporter": "python",
   "pygments_lexer": "ipython3",
   "version": "3.6.4"
  }
 },
 "nbformat": 4,
 "nbformat_minor": 2
}
