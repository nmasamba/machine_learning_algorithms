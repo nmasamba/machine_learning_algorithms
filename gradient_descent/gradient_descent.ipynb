{
 "cells": [
  {
   "cell_type": "code",
   "execution_count": 1,
   "metadata": {},
   "outputs": [],
   "source": [
    "\n",
    "import numpy as np\n",
    "import pandas as pd #To read the dataset\n",
    "import matplotlib.pyplot as plt #Plotting\n",
    "import time\n",
    "from IPython import display\n",
    "%matplotlib inline"
   ]
  },
  {
   "cell_type": "markdown",
   "metadata": {},
   "source": [
    "This notebook demonstrates how to use gradient descent during parametric learning."
   ]
  },
  {
   "cell_type": "code",
   "execution_count": 2,
   "metadata": {},
   "outputs": [
    {
     "data": {
      "text/html": [
       "<div>\n",
       "<style scoped>\n",
       "    .dataframe tbody tr th:only-of-type {\n",
       "        vertical-align: middle;\n",
       "    }\n",
       "\n",
       "    .dataframe tbody tr th {\n",
       "        vertical-align: top;\n",
       "    }\n",
       "\n",
       "    .dataframe thead th {\n",
       "        text-align: right;\n",
       "    }\n",
       "</style>\n",
       "<table border=\"1\" class=\"dataframe\">\n",
       "  <thead>\n",
       "    <tr style=\"text-align: right;\">\n",
       "      <th></th>\n",
       "      <th>Temp</th>\n",
       "      <th>Gas Units Sold</th>\n",
       "    </tr>\n",
       "  </thead>\n",
       "  <tbody>\n",
       "    <tr>\n",
       "      <th>0</th>\n",
       "      <td>8</td>\n",
       "      <td>12.4</td>\n",
       "    </tr>\n",
       "    <tr>\n",
       "      <th>1</th>\n",
       "      <td>7</td>\n",
       "      <td>22.2</td>\n",
       "    </tr>\n",
       "    <tr>\n",
       "      <th>2</th>\n",
       "      <td>6</td>\n",
       "      <td>30.1</td>\n",
       "    </tr>\n",
       "    <tr>\n",
       "      <th>3</th>\n",
       "      <td>5</td>\n",
       "      <td>45.4</td>\n",
       "    </tr>\n",
       "    <tr>\n",
       "      <th>4</th>\n",
       "      <td>4</td>\n",
       "      <td>59.3</td>\n",
       "    </tr>\n",
       "  </tbody>\n",
       "</table>\n",
       "</div>"
      ],
      "text/plain": [
       "   Temp  Gas Units Sold\n",
       "0     8            12.4\n",
       "1     7            22.2\n",
       "2     6            30.1\n",
       "3     5            45.4\n",
       "4     4            59.3"
      ]
     },
     "execution_count": 2,
     "metadata": {},
     "output_type": "execute_result"
    }
   ],
   "source": [
    "\n",
    "dataset = pd.read_csv('grad_desc.csv')\n",
    "data = dataset.as_matrix()\n",
    "\n",
    "numInstances = data.shape[0]\n",
    "\n",
    "dataset.head()"
   ]
  },
  {
   "cell_type": "code",
   "execution_count": 3,
   "metadata": {},
   "outputs": [
    {
     "data": {
      "image/png": "[encoded data removed]",
      "text/plain": [
       "<matplotlib.figure.Figure at 0x116433240>"
      ]
     },
     "metadata": {},
     "output_type": "display_data"
    }
   ],
   "source": [
    "plt.figure(figsize=(10,5))\n",
    "plt.title('Temperature vs Gas Units Sold')\n",
    "plt.scatter(x=data[:,0],y=data[:,1])\n",
    "plt.xlabel('Temperature')\n",
    "plt.ylabel('Units Sold')\n",
    "plt.show()"
   ]
  },
  {
   "cell_type": "code",
   "execution_count": 4,
   "metadata": {},
   "outputs": [],
   "source": [
    "\n",
    "def SSE(m,b,data):\n",
    "    \n",
    "    totalError = 0.0\n",
    "    \n",
    "    for i in range(numInstances):\n",
    "        \n",
    "        temp = data[i,0] #Row i, column 0 -> 'temp'\n",
    "        gas = data[i,1] #Row i, column 1 -> 'gas sold'\n",
    "        \n",
    "        #The real num of gas units\n",
    "        currentTarget = gas\n",
    "        \n",
    "        #Predicted num of gas units with our current fitting line\n",
    "        #y = mx + b\n",
    "        currentOutput = m*temp + b\n",
    "        \n",
    "        #Compute squared error\n",
    "        currentSquaredError = (currentTarget - currentOutput)**2\n",
    "\n",
    "        \n",
    "        #Add it to the total error\n",
    "        totalError += currentSquaredError\n",
    "\n",
    "    sse = totalError/numInstances\n",
    "    \n",
    "    return totalError"
   ]
  },
  {
   "cell_type": "code",
   "execution_count": 5,
   "metadata": {},
   "outputs": [
    {
     "ename": "SyntaxError",
     "evalue": "invalid syntax (<ipython-input-5-6a5681c5069c>, line 8)",
     "output_type": "error",
     "traceback": [
      "\u001b[0;36m  File \u001b[0;32m\"<ipython-input-5-6a5681c5069c>\"\u001b[0;36m, line \u001b[0;32m8\u001b[0m\n\u001b[0;31m    print 'For the fitting line: y = %sx + %s \\nSSE: %.2f' %(m,b,sse)\u001b[0m\n\u001b[0m                                                         ^\u001b[0m\n\u001b[0;31mSyntaxError\u001b[0m\u001b[0;31m:\u001b[0m invalid syntax\n"
     ]
    }
   ],
   "source": [
    "\n",
    "# Guessing the values of m and b for fitting the line\n",
    "m = 2\n",
    "b = 5\n",
    "\n",
    "sse = SSE(m, b, data)\n",
    "        \n",
    "print 'For the fitting line: y = %sx + %s \\nSSE: %.2f' %(m,b,sse)"
   ]
  },
  {
   "cell_type": "code",
   "execution_count": null,
   "metadata": {},
   "outputs": [],
   "source": [
    "\n",
    "fig = plt.figure(figsize=(10,5))\n",
    "ax = fig.add_subplot(111)\n",
    "ax.set_title('ADR vs Rating (CS:GO)')\n",
    "ax.scatter(x=data[:,0],y=data[:,1],label='Data')\n",
    "plt.plot(data[:,0], m*data[:,0] + b,color='red',label='Our Fitting Line')\n",
    "ax.set_xlabel('ADR')\n",
    "ax.set_ylabel('Rating')\n",
    "ax.legend(loc='best')\n",
    "\n",
    "plt.show()"
   ]
  },
  {
   "cell_type": "code",
   "execution_count": null,
   "metadata": {},
   "outputs": [],
   "source": [
    "\n",
    "def gradient_descent_step(m,b,data):\n",
    "    \n",
    "    N = numInstances\n",
    "    m_grad = 1\n",
    "    b_grad = 1\n",
    "    \n",
    "    for i in range(N):\n",
    "\n",
    "        #Get current pair (x,y)\n",
    "        x = data[i,0]\n",
    "        y = data[i,1]\n",
    "\n",
    "        #Partial derivative respect 'm'\n",
    "        dm = -(2/N) * x * (y - ((m*x) + b))\n",
    "        \n",
    "        #Partial derivative respect 'b'\n",
    "        db = -(2/N) * (y - ((m*x) + b))    \n",
    "        \n",
    "        #Update gradient\n",
    "        m_grad = m_grad + dm\n",
    "        b_grad = b_grad + db\n",
    "    \n",
    "    #Set the new 'better' updated 'm' and 'b'\n",
    "    m_updated = m - 0.01*m_grad\n",
    "    b_updated = b - 0.01*b_grad\n",
    "    \n",
    "    #Important note: The value '0.0001' that multiplies the 'm_grad' and 'b_grad' is the learning rate.\n",
    "    \n",
    "    return m_updated,b_updated"
   ]
  },
  {
   "cell_type": "code",
   "execution_count": null,
   "metadata": {},
   "outputs": [],
   "source": [
    "\n",
    "# Trying out SSE and gradient descent\n",
    "\n",
    "sse = SSE(m,b,data)\n",
    "\n",
    "print('Starting line: y = %.2fx + %.2f - Error: %.2f' %(m,b,sse))\n",
    "\n",
    "for i in range(2):\n",
    "    m,b = gradient_descent_step(m,b,data)\n",
    "    sse = SSE(m,b,data)\n",
    "    print('At step %d - Line: y = %.2fx + %.2f - Error: %.2f' %(i+1,m,b,sse))\n",
    "\n",
    "print('\\nBest  line: y = %.2fx + %.2f - Error: %.2f' %(m,b,sse))"
   ]
  },
  {
   "cell_type": "code",
   "execution_count": null,
   "metadata": {},
   "outputs": [],
   "source": [
    "def gradient_descent_n_steps(m_starting,b_starting,data,steps): #For doing it many times in an easy way ;)\n",
    "    print('Starting line: y = %.6fx + %.6f - Error: %.6f\\n' %(m_starting,b_starting,SSE(m_starting,b_starting,data)))\n",
    "    m = m_starting\n",
    "    b = b_starting\n",
    "    display_freq = steps//10\n",
    "    for i in range(steps):\n",
    "        m,b = gradient_descent_step(m,b,data)\n",
    "        if(i % display_freq == 0):\n",
    "            sse = SSE(m,b,data)\n",
    "            print('At step %d - Line: y = %.6fx + %.6f - Error: %.6f' %(i+1,m,b,sse))\n",
    "    \n",
    "    \n",
    "    print('\\nBest  line: y = %.6fx + %.6f - Error: %.6f' %(m,b,sse))\n",
    "    return m,b"
   ]
  },
  {
   "cell_type": "code",
   "execution_count": null,
   "metadata": {},
   "outputs": [],
   "source": [
    "\n",
    "# Define Hyperparameters (can be randomly generated)\n",
    "M_STARTING = 0\n",
    "B_STARTING = 0\n",
    "NUM_STEPS = 1000"
   ]
  },
  {
   "cell_type": "code",
   "execution_count": null,
   "metadata": {},
   "outputs": [],
   "source": [
    "m_best,b_best = gradient_descent_n_steps(M_STARTING, B_STARTING, data, NUM_STEPS)"
   ]
  },
  {
   "cell_type": "code",
   "execution_count": null,
   "metadata": {},
   "outputs": [],
   "source": [
    "\n",
    "m=m_best\n",
    "b=b_best\n",
    "x = data[:,0]\n",
    "\n",
    "fig = plt.figure(figsize=(10,5))\n",
    "ax = fig.add_subplot(111)\n",
    "ax.set_title('ADR vs Rating (CS:GO)')\n",
    "ax.scatter(x=x,y=data[:,1],label='Data')\n",
    "plt.plot(x, m*x + b,color='red',label='BEST Fitting Line')\n",
    "ax.set_xlabel('ADR')\n",
    "ax.set_ylabel('Rating')\n",
    "ax.legend(loc='best')\n",
    "\n",
    "plt.show()"
   ]
  },
  {
   "cell_type": "code",
   "execution_count": null,
   "metadata": {},
   "outputs": [],
   "source": [
    "\n",
    "# Visualising the error\n",
    "\n",
    "def error_plot(fig,ax,error_list,error,data,step):\n",
    "    #PLOT2\n",
    "\n",
    "    ax.cla()\n",
    "    \n",
    "    ax.set_title('Error (step %d)' % step)\n",
    "    ax.set_xlabel('Iteration number')\n",
    "    ax.set_ylabel('Error')\n",
    "    \n",
    "    ax.plot(np.arange(0,len(error_list)),error_list)    \n",
    "    fig.canvas.draw()\n",
    "    \n",
    "def gradient_descent_n_steps_with_error_plot(m_starting,b_starting,data,steps): #For doing it many times in an easy way ;)\n",
    "    \n",
    "    fig,ax = plt.subplots(1,1,figsize=(10,7))\n",
    "    \n",
    "    m = m_starting\n",
    "    b = b_starting\n",
    "    error_list = list()\n",
    "    \n",
    "    \n",
    "    error = SSE(m,b,data)\n",
    "    error_list.append(error)\n",
    "    \n",
    "    plt.cla()\n",
    "    for i in range(steps):\n",
    "        step = i\n",
    "        error_plot(fig,ax,error_list,error,data,step)\n",
    "        \n",
    "        m,b = gradient_descent_step(m,b,data)\n",
    "        error = SSE(m,b,data)\n",
    "        error_list.append(error)\n",
    "        \n",
    "        time.sleep(10/steps)\n",
    "        plt.cla()\n",
    "        #############\n",
    "            \n",
    "    error_plot(fig,ax,error_list,error,data,step)\n",
    "#end def\n",
    "\n",
    "#RUN IT!\n",
    "\n",
    "m = 1\n",
    "b = 1\n",
    "steps = 10\n",
    "gradient_descent_n_steps_with_error_plot(m,b,data,steps)"
   ]
  },
  {
   "cell_type": "code",
   "execution_count": null,
   "metadata": {},
   "outputs": [],
   "source": [
    "# NB: Update Pending"
   ]
  },
  {
   "cell_type": "code",
   "execution_count": null,
   "metadata": {},
   "outputs": [],
   "source": []
  }
 ],
 "metadata": {
  "kernelspec": {
   "display_name": "Python 3",
   "language": "python",
   "name": "python3"
  },
  "language_info": {
   "codemirror_mode": {
    "name": "ipython",
    "version": 3
   },
   "file_extension": ".py",
   "mimetype": "text/x-python",
   "name": "python",
   "nbconvert_exporter": "python",
   "pygments_lexer": "ipython3",
   "version": "3.6.4"
  }
 },
 "nbformat": 4,
 "nbformat_minor": 2
}
