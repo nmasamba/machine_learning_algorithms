{
 "cells": [
  {
   "cell_type": "code",
   "execution_count": 30,
   "metadata": {
    "collapsed": true
   },
   "outputs": [],
   "source": [
    "\n",
    "import numpy as np\n",
    "import pandas as pd #To read the dataset\n",
    "import matplotlib.pyplot as plt #Plotting\n",
    "import time\n",
    "from IPython import display\n",
    "%matplotlib inline"
   ]
  },
  {
   "cell_type": "code",
   "execution_count": 31,
   "metadata": {},
   "outputs": [
    {
     "data": {
      "text/html": [
       "<div>\n",
       "<style>\n",
       "    .dataframe thead tr:only-child th {\n",
       "        text-align: right;\n",
       "    }\n",
       "\n",
       "    .dataframe thead th {\n",
       "        text-align: left;\n",
       "    }\n",
       "\n",
       "    .dataframe tbody tr th {\n",
       "        vertical-align: top;\n",
       "    }\n",
       "</style>\n",
       "<table border=\"1\" class=\"dataframe\">\n",
       "  <thead>\n",
       "    <tr style=\"text-align: right;\">\n",
       "      <th></th>\n",
       "      <th>x</th>\n",
       "      <th>y</th>\n",
       "    </tr>\n",
       "  </thead>\n",
       "  <tbody>\n",
       "    <tr>\n",
       "      <th>0</th>\n",
       "      <td>1</td>\n",
       "      <td>12.4</td>\n",
       "    </tr>\n",
       "    <tr>\n",
       "      <th>1</th>\n",
       "      <td>2</td>\n",
       "      <td>22.2</td>\n",
       "    </tr>\n",
       "    <tr>\n",
       "      <th>2</th>\n",
       "      <td>3</td>\n",
       "      <td>30.1</td>\n",
       "    </tr>\n",
       "    <tr>\n",
       "      <th>3</th>\n",
       "      <td>4</td>\n",
       "      <td>45.4</td>\n",
       "    </tr>\n",
       "    <tr>\n",
       "      <th>4</th>\n",
       "      <td>5</td>\n",
       "      <td>59.3</td>\n",
       "    </tr>\n",
       "  </tbody>\n",
       "</table>\n",
       "</div>"
      ],
      "text/plain": [
       "   x     y\n",
       "0  1  12.4\n",
       "1  2  22.2\n",
       "2  3  30.1\n",
       "3  4  45.4\n",
       "4  5  59.3"
      ]
     },
     "execution_count": 31,
     "metadata": {},
     "output_type": "execute_result"
    }
   ],
   "source": [
    "\n",
    "dataset = pd.read_csv('grad_desc.csv')\n",
    "data = dataset.as_matrix()\n",
    "\n",
    "numInstances = data.shape[0]\n",
    "\n",
    "dataset.head()"
   ]
  },
  {
   "cell_type": "code",
   "execution_count": 32,
   "metadata": {},
   "outputs": [
    {
     "data": {
      "image/png": "[encoded data removed]",
      "text/plain": [
       "<matplotlib.figure.Figure at 0x11a832750>"
      ]
     },
     "metadata": {},
     "output_type": "display_data"
    }
   ],
   "source": [
    "plt.figure(figsize=(10,5))\n",
    "plt.title('Independent (x) vs Dependent (y) Variable')\n",
    "plt.scatter(x=data[:,0],y=data[:,1])\n",
    "plt.xlabel('x')\n",
    "plt.ylabel('y')\n",
    "plt.show()"
   ]
  },
  {
   "cell_type": "code",
   "execution_count": 33,
   "metadata": {
    "collapsed": true
   },
   "outputs": [],
   "source": [
    "\n",
    "def SSE(m,b,data):\n",
    "    \n",
    "    totalError = 0.0\n",
    "    \n",
    "    for i in range(numInstances):\n",
    "        \n",
    "        x = data[i,0] #Row i, column 0 -> x\n",
    "        y = data[i,1] #Row i, column 1 -> y\n",
    "        \n",
    "        #The real rating\n",
    "        currentTarget = y\n",
    "        \n",
    "        #Predicted rating with our current fitting line\n",
    "        #y = mx + b\n",
    "        currentOutput = m*x + b\n",
    "        \n",
    "        #Compute squared error\n",
    "        currentSquaredError = (currentTarget - currentOutput)**2\n",
    "\n",
    "        \n",
    "        #Add it to the total error\n",
    "        totalError += currentSquaredError\n",
    "\n",
    "    sse = totalError/numInstances\n",
    "    \n",
    "    return totalError"
   ]
  },
  {
   "cell_type": "code",
   "execution_count": 39,
   "metadata": {},
   "outputs": [
    {
     "name": "stdout",
     "output_type": "stream",
     "text": [
      "For the fitting line: y = 2x + 5 \n",
      "SSE: 14104.32\n"
     ]
    }
   ],
   "source": [
    "\n",
    "# Guessing the values of m and b for fitting the line\n",
    "m = 2\n",
    "b = 5\n",
    "\n",
    "sse = SSE(m, b, data)\n",
    "        \n",
    "print 'For the fitting line: y = %sx + %s \\nSSE: %.2f' %(m,b,sse)"
   ]
  },
  {
   "cell_type": "code",
   "execution_count": 40,
   "metadata": {},
   "outputs": [
    {
     "data": {
      "image/png": "[encoded data removed]",
      "text/plain": [
       "<matplotlib.figure.Figure at 0x11a294a90>"
      ]
     },
     "metadata": {},
     "output_type": "display_data"
    }
   ],
   "source": [
    "\n",
    "fig = plt.figure(figsize=(10,5))\n",
    "ax = fig.add_subplot(111)\n",
    "ax.set_title('ADR vs Rating (CS:GO)')\n",
    "ax.scatter(x=data[:,0],y=data[:,1],label='Data')\n",
    "plt.plot(data[:,0], m*data[:,0] + b,color='red',label='Our Fitting Line')\n",
    "ax.set_xlabel('ADR')\n",
    "ax.set_ylabel('Rating')\n",
    "ax.legend(loc='best')\n",
    "\n",
    "plt.show()"
   ]
  },
  {
   "cell_type": "code",
   "execution_count": 45,
   "metadata": {
    "collapsed": true
   },
   "outputs": [],
   "source": [
    "\n",
    "def gradient_descent_step(m,b,data):\n",
    "    \n",
    "    N = numInstances\n",
    "    m_grad = 0\n",
    "    b_grad = 0\n",
    "    \n",
    "    for i in range(N):\n",
    "\n",
    "        #Get current pair (x,y)\n",
    "        x_pair = data[i,0]\n",
    "        y_pair = data[i,1]\n",
    "\n",
    "        #Partial derivative respect 'm'\n",
    "        dm = -((2/N) * x_pair * (y_pair - (m*x_pair + b)))\n",
    "        \n",
    "        #Partial derivative respect 'b'\n",
    "        db = - ((2/N) * (y_pair - (m*x_pair + b)))\n",
    "    \n",
    "        #Update gradient\n",
    "        m_grad = m_grad + dm\n",
    "        b_grad = b_grad + db\n",
    "    \n",
    "    #Set the new 'better' updated 'm' and 'b'\n",
    "    m_updated = m - 0.01*m_grad\n",
    "    b_updated = b - 0.01*b_grad\n",
    "    \n",
    "    #Important note: The value '0.0001' that multiplies the 'm_grad' and 'b_grad' is the learning rate.\n",
    "    \n",
    "    return m_updated,b_updated"
   ]
  },
  {
   "cell_type": "code",
   "execution_count": 46,
   "metadata": {},
   "outputs": [
    {
     "name": "stdout",
     "output_type": "stream",
     "text": [
      "Starting line: y = 2.00x + 5.00 - Error: 14104.32\n",
      "At step 1 - Line: y = 2.00x + 5.00 - Error: 14104.32\n",
      "At step 2 - Line: y = 2.00x + 5.00 - Error: 14104.32\n",
      "\n",
      "Best  line: y = 2.00x + 5.00 - Error: 14104.32\n"
     ]
    }
   ],
   "source": [
    "\n",
    "# Trying out SSE and gradient descent\n",
    "\n",
    "sse = SSE(m,b,data)\n",
    "\n",
    "print('Starting line: y = %.2fx + %.2f - Error: %.2f' %(m,b,sse))\n",
    "\n",
    "for i in range(2):\n",
    "    m,b = gradient_descent_step(m,b,data)\n",
    "    sse = SSE(m,b,data)\n",
    "    print('At step %d - Line: y = %.2fx + %.2f - Error: %.2f' %(i+1,m,b,sse))\n",
    "\n",
    "print('\\nBest  line: y = %.2fx + %.2f - Error: %.2f' %(m,b,sse))"
   ]
  },
  {
   "cell_type": "code",
   "execution_count": null,
   "metadata": {
    "collapsed": true
   },
   "outputs": [],
   "source": [
    "\n"
   ]
  }
 ],
 "metadata": {
  "kernelspec": {
   "display_name": "Python 2",
   "language": "python",
   "name": "python2"
  },
  "language_info": {
   "codemirror_mode": {
    "name": "ipython",
    "version": 2
   },
   "file_extension": ".py",
   "mimetype": "text/x-python",
   "name": "python",
   "nbconvert_exporter": "python",
   "pygments_lexer": "ipython2",
   "version": "2.7.13"
  }
 },
 "nbformat": 4,
 "nbformat_minor": 2
}
