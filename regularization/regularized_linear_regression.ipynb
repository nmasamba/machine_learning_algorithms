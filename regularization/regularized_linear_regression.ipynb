{
 "cells": [
  {
   "cell_type": "code",
   "execution_count": 1,
   "metadata": {
    "collapsed": true
   },
   "outputs": [],
   "source": [
    "# Import dependencies\n",
    "# numpy for matrix algbera\n",
    "import numpy as np\n",
    "# Pandas for data manipulation\n",
    "import pandas as pd\n",
    "# matplotlib for data visualization\n",
    "import matplotlib.pyplot as plt"
   ]
  },
  {
   "cell_type": "code",
   "execution_count": 24,
   "metadata": {},
   "outputs": [
    {
     "data": {
      "text/html": [
       "<div>\n",
       "<style>\n",
       "    .dataframe thead tr:only-child th {\n",
       "        text-align: right;\n",
       "    }\n",
       "\n",
       "    .dataframe thead th {\n",
       "        text-align: left;\n",
       "    }\n",
       "\n",
       "    .dataframe tbody tr th {\n",
       "        vertical-align: top;\n",
       "    }\n",
       "</style>\n",
       "<table border=\"1\" class=\"dataframe\">\n",
       "  <thead>\n",
       "    <tr style=\"text-align: right;\">\n",
       "      <th></th>\n",
       "      <th>dt</th>\n",
       "      <th>AverageTemperature</th>\n",
       "      <th>AverageTemperatureUncertainty</th>\n",
       "      <th>City</th>\n",
       "      <th>Country</th>\n",
       "      <th>Latitude</th>\n",
       "      <th>Longitude</th>\n",
       "      <th>year</th>\n",
       "      <th>month</th>\n",
       "    </tr>\n",
       "  </thead>\n",
       "  <tbody>\n",
       "    <tr>\n",
       "      <th>131855</th>\n",
       "      <td>1849-10-01</td>\n",
       "      <td>16.549</td>\n",
       "      <td>2.177</td>\n",
       "      <td>Los Angeles</td>\n",
       "      <td>United States</td>\n",
       "      <td>34.56N</td>\n",
       "      <td>118.70W</td>\n",
       "      <td>1849</td>\n",
       "      <td>10</td>\n",
       "    </tr>\n",
       "    <tr>\n",
       "      <th>131867</th>\n",
       "      <td>1850-10-01</td>\n",
       "      <td>17.577</td>\n",
       "      <td>1.318</td>\n",
       "      <td>Los Angeles</td>\n",
       "      <td>United States</td>\n",
       "      <td>34.56N</td>\n",
       "      <td>118.70W</td>\n",
       "      <td>1850</td>\n",
       "      <td>10</td>\n",
       "    </tr>\n",
       "    <tr>\n",
       "      <th>131879</th>\n",
       "      <td>1851-10-01</td>\n",
       "      <td>16.963</td>\n",
       "      <td>2.856</td>\n",
       "      <td>Los Angeles</td>\n",
       "      <td>United States</td>\n",
       "      <td>34.56N</td>\n",
       "      <td>118.70W</td>\n",
       "      <td>1851</td>\n",
       "      <td>10</td>\n",
       "    </tr>\n",
       "    <tr>\n",
       "      <th>131891</th>\n",
       "      <td>1852-10-01</td>\n",
       "      <td>15.792</td>\n",
       "      <td>1.630</td>\n",
       "      <td>Los Angeles</td>\n",
       "      <td>United States</td>\n",
       "      <td>34.56N</td>\n",
       "      <td>118.70W</td>\n",
       "      <td>1852</td>\n",
       "      <td>10</td>\n",
       "    </tr>\n",
       "    <tr>\n",
       "      <th>131903</th>\n",
       "      <td>1853-10-01</td>\n",
       "      <td>17.851</td>\n",
       "      <td>3.069</td>\n",
       "      <td>Los Angeles</td>\n",
       "      <td>United States</td>\n",
       "      <td>34.56N</td>\n",
       "      <td>118.70W</td>\n",
       "      <td>1853</td>\n",
       "      <td>10</td>\n",
       "    </tr>\n",
       "  </tbody>\n",
       "</table>\n",
       "</div>"
      ],
      "text/plain": [
       "                dt  AverageTemperature  AverageTemperatureUncertainty  \\\n",
       "131855  1849-10-01              16.549                          2.177   \n",
       "131867  1850-10-01              17.577                          1.318   \n",
       "131879  1851-10-01              16.963                          2.856   \n",
       "131891  1852-10-01              15.792                          1.630   \n",
       "131903  1853-10-01              17.851                          3.069   \n",
       "\n",
       "               City        Country Latitude Longitude  year  month  \n",
       "131855  Los Angeles  United States   34.56N   118.70W  1849     10  \n",
       "131867  Los Angeles  United States   34.56N   118.70W  1850     10  \n",
       "131879  Los Angeles  United States   34.56N   118.70W  1851     10  \n",
       "131891  Los Angeles  United States   34.56N   118.70W  1852     10  \n",
       "131903  Los Angeles  United States   34.56N   118.70W  1853     10  "
      ]
     },
     "execution_count": 24,
     "metadata": {},
     "output_type": "execute_result"
    }
   ],
   "source": [
    "# Importing csv dataset with pandas\n",
    "data = pd.read_csv('temps.csv')\n",
    "\n",
    "# Extrating year and month from data\n",
    "data['year'] = pd.DatetimeIndex(pd.to_datetime(data['dt'])).year\n",
    "data['month'] = pd.DatetimeIndex(pd.to_datetime(data['dt'])).month\n",
    "\n",
    "# Using only temp data for Los Angeles in October\n",
    "data = data.loc[data['City'] == 'Los Angeles']\n",
    "data = data.loc[data['month'] == 10]\n",
    "\n",
    "# Looking at the first 5 rows of dataset\n",
    "data.head()"
   ]
  },
  {
   "cell_type": "code",
   "execution_count": 25,
   "metadata": {},
   "outputs": [
    {
     "data": {
      "image/png": "[encoded data removed]",
      "text/plain": [
       "<matplotlib.figure.Figure at 0x10db815d0>"
      ]
     },
     "metadata": {},
     "output_type": "display_data"
    }
   ],
   "source": [
    "# Using Year as X_values and price as Y_values, we want to predict the temperature\n",
    "# in LA in a future year\n",
    "points = data.as_matrix(['year', 'AverageTemperature'])\n",
    "\n",
    "# Looking at the plot of the points, we can see a linear trend \n",
    "f, ax = plt.subplots(figsize=(14, 5))\n",
    "ax.set_xlabel('Year')\n",
    "ax.set_ylabel('Av. Temp in October (Degrees Celcius)')\n",
    "plt.scatter(points[:,0], points[:,1])\n",
    "plt.show()"
   ]
  },
  {
   "cell_type": "code",
   "execution_count": 26,
   "metadata": {
    "collapsed": true
   },
   "outputs": [],
   "source": [
    "# Computes mean sum of squared error for all data points\n",
    "def compute_error_for_line_given_points(b, m, points):\n",
    "    totalError = 0\n",
    "    for i in range(0, len(points)):\n",
    "        x = points[i, 0]\n",
    "        y = points[i, 1]\n",
    "        totalError += (y - (m * x + b)) ** 2\n",
    "    return totalError / float(len(points))"
   ]
  },
  {
   "cell_type": "code",
   "execution_count": 27,
   "metadata": {
    "collapsed": true
   },
   "outputs": [],
   "source": [
    "def step_gradient(b_current, m_current, points, learningRate, lam, regularizer):\n",
    "    b_gradient = 0\n",
    "    m_gradient = 0\n",
    "    N = float(len(points))\n",
    "    \n",
    "    # Iterating over all points\n",
    "    for i in range(0, len(points)):\n",
    "        # Getting x and y values\n",
    "        x = points[i, 0]\n",
    "        y = points[i, 1]\n",
    "        \n",
    "        # Calculating gradients according to regularization\n",
    "        if regularizer == 'L1':\n",
    "            m_gradient += (lam/(2*N) -(x/N) * (y - ((m_current * x) + b_current)))\n",
    "        elif regularizer == 'L2':\n",
    "            m_gradient += (lam/N*m_current - (x/N) * (y - ((m_current * x) + b_current)))\n",
    "        else:\n",
    "            m_gradient += -(x/N) * (y - ((m_current * x) + b_current))\n",
    "        b_gradient += -(1/N) * (y - ((m_current * x) + b_current))\n",
    "        \n",
    "    # Updating b and m with learningrate * gradients\n",
    "    new_b = b_current - (learningRate * b_gradient)\n",
    "    new_m = m_current - (learningRate * m_gradient)\n",
    "    return [new_b, new_m]"
   ]
  },
  {
   "cell_type": "code",
   "execution_count": 28,
   "metadata": {
    "collapsed": true
   },
   "outputs": [],
   "source": [
    "def gradient_descent_runner(points, starting_b, starting_m, learning_rate, num_iterations, lam, regularizer):\n",
    "    b = starting_b\n",
    "    m = starting_m\n",
    "    for i in range(num_iterations):\n",
    "        b, m = step_gradient(b, m, np.array(points), learning_rate, lam, regularizer)\n",
    "        # Every 100 iterations, prints b and m and error\n",
    "        if i % 100 == 0:\n",
    "            print('Iteration {}, b:{}, m:{}, error:{}'.format(i, b, m, compute_error_for_line_given_points(b, m, points)))\n",
    "    return [b, m]\n",
    "\n",
    "def run(lr, num_iter, lam, regularizer=None):\n",
    "    learning_rate = lr\n",
    "    initial_b = 0 # initial y-intercept guess\n",
    "    initial_m = 0 # initial slope guess\n",
    "    num_iterations = num_iter\n",
    "    print(\"Starting gradient descent at b = {0}, m = {1}, error = {2}\".format(initial_b, initial_m, compute_error_for_line_given_points(initial_b, initial_m, points)))\n",
    "    print(\"Running...\")\n",
    "    [b, m] = gradient_descent_runner(points, initial_b, initial_m, learning_rate, num_iterations, lam, regularizer)\n",
    "    print(\"After {0} iterations b = {1}, m = {2}, error = {3}\".format(num_iterations, b, m, compute_error_for_line_given_points(b, m, points)))\n",
    "    return b, m\n",
    "\n",
    "# Predicts y, given x\n",
    "def predict(b, m, x_values):\n",
    "    predicted_y = list()\n",
    "    for x in x_values:\n",
    "        y = m * x + b\n",
    "        predicted_y.append(y)\n",
    "    return predicted_y"
   ]
  },
  {
   "cell_type": "code",
   "execution_count": 29,
   "metadata": {},
   "outputs": [
    {
     "name": "stdout",
     "output_type": "stream",
     "text": [
      "Starting gradient descent at b = 0, m = 0, error = 289.596072\n",
      "Running...\n",
      "Iteration 0, b:1.69748902439e-06, m:0.00325385360671, error:115.699623549\n",
      "Iteration 100, b:5.8305911962e-06, m:0.0087256371669, error:1.31369460864\n",
      "Iteration 200, b:7.13100981839e-06, m:0.00872563649369, error:1.31369460703\n",
      "Iteration 300, b:8.43142843276e-06, m:0.00872563582048, error:1.31369460542\n",
      "Iteration 400, b:9.73184703931e-06, m:0.00872563514726, error:1.31369460381\n",
      "After 500 iterations b = 1.10192614521e-05, m = 0.00872563448078, error = 1.31369460221\n",
      "Starting gradient descent at b = 0, m = 0, error = 289.596072\n",
      "Running...\n",
      "Iteration 0, b:1.69748902439e-06, m:0.00327885360671, error:114.669220217\n",
      "Iteration 100, b:4.57989611561e-06, m:0.00879149983506, error:1.29693959658\n",
      "Iteration 200, b:4.60884843979e-06, m:0.00879149982007, error:1.29693959654\n",
      "Iteration 300, b:4.63780076377e-06, m:0.00879149980508, error:1.29693959651\n",
      "Iteration 400, b:4.66675308753e-06, m:0.0087914997901, error:1.29693959647\n",
      "After 500 iterations b = 4.69541588784e-06, m = 0.00879149977526, error = 1.29693959644\n",
      "Starting gradient descent at b = 0, m = 0, error = 289.596072\n",
      "Running...\n",
      "Iteration 0, b:1.69748902439e-06, m:0.00327885360671, error:114.669220217\n",
      "Iteration 100, b:4.55813263597e-06, m:0.00879267862467, error:1.29693441499\n",
      "Iteration 200, b:4.56432864438e-06, m:0.00879267862146, error:1.29693441499\n",
      "Iteration 300, b:4.57052465276e-06, m:0.00879267861826, error:1.29693441498\n",
      "Iteration 400, b:4.57672066109e-06, m:0.00879267861505, error:1.29693441497\n",
      "After 500 iterations b = 4.58285470931e-06, m = 0.00879267861187, error = 1.29693441496\n"
     ]
    }
   ],
   "source": [
    "# Hyperparameters\n",
    "learning_rate = 0.0000001\n",
    "iterations = 500\n",
    "lamb = 500\n",
    "\n",
    "# Linear Regression with L1 \n",
    "b1, m1 = run(learning_rate, iterations, lamb, 'L1')\n",
    "\n",
    "# Linear Regression with L2 \n",
    "b2, m2 = run(learning_rate, iterations, lamb, 'L2')\n",
    "\n",
    "# Linear Regression without Regularization\n",
    "b3, m3 = run(learning_rate, iterations, lamb)"
   ]
  },
  {
   "cell_type": "code",
   "execution_count": 30,
   "metadata": {},
   "outputs": [
    {
     "data": {
      "image/png": "[encoded data removed]",
      "text/plain": [
       "<matplotlib.figure.Figure at 0x10a469110>"
      ]
     },
     "metadata": {},
     "output_type": "display_data"
    }
   ],
   "source": [
    "# Comparing best-fit line with dataset\n",
    "f, ax = plt.subplots(figsize=(14, 5))\n",
    "ax.set_xlabel('Year')\n",
    "ax.set_ylabel('Av. Temp in October (Degrees Celcius)')\n",
    "plt.plot(points[:,0], predict(b1, m1, points[:,0]), label='L1')\n",
    "plt.plot(points[:,0], predict(b2, m2, points[:,0]), label='L2')\n",
    "plt.plot(points[:,0], predict(b3, m3, points[:,0]), label='None')\n",
    "plt.scatter(points[:,0], points[:,1])\n",
    "plt.legend()\n",
    "plt.show()"
   ]
  },
  {
   "cell_type": "code",
   "execution_count": 31,
   "metadata": {},
   "outputs": [
    {
     "data": {
      "text/plain": [
       "[17.599615767003478, 17.887561704869363, 18.323843428908578]"
      ]
     },
     "execution_count": 31,
     "metadata": {},
     "output_type": "execute_result"
    }
   ],
   "source": [
    "# And just for fun, let's predict the impact of global warming by 2100\n",
    "temp = predict(b1,m1, [2017, 2050, 2100])\n",
    "\n",
    "temp"
   ]
  },
  {
   "cell_type": "code",
   "execution_count": null,
   "metadata": {
    "collapsed": true
   },
   "outputs": [],
   "source": []
  }
 ],
 "metadata": {
  "kernelspec": {
   "display_name": "Python 2",
   "language": "python",
   "name": "python2"
  },
  "language_info": {
   "codemirror_mode": {
    "name": "ipython",
    "version": 2
   },
   "file_extension": ".py",
   "mimetype": "text/x-python",
   "name": "python",
   "nbconvert_exporter": "python",
   "pygments_lexer": "ipython2",
   "version": "2.7.13"
  }
 },
 "nbformat": 4,
 "nbformat_minor": 2
}
