{
 "cells": [
  {
   "cell_type": "code",
   "execution_count": 1,
   "metadata": {
    "collapsed": true
   },
   "outputs": [],
   "source": [
    "# Import dependencies\n",
    "# numpy for matrix algbera\n",
    "import numpy as np\n",
    "# Pandas for data manipulation\n",
    "import pandas as pd\n",
    "# matplotlib for data visualization\n",
    "import matplotlib.pyplot as plt"
   ]
  },
  {
   "cell_type": "code",
   "execution_count": 2,
   "metadata": {},
   "outputs": [
    {
     "data": {
      "text/html": [
       "<div>\n",
       "<style>\n",
       "    .dataframe thead tr:only-child th {\n",
       "        text-align: right;\n",
       "    }\n",
       "\n",
       "    .dataframe thead th {\n",
       "        text-align: left;\n",
       "    }\n",
       "\n",
       "    .dataframe tbody tr th {\n",
       "        vertical-align: top;\n",
       "    }\n",
       "</style>\n",
       "<table border=\"1\" class=\"dataframe\">\n",
       "  <thead>\n",
       "    <tr style=\"text-align: right;\">\n",
       "      <th></th>\n",
       "      <th>dt</th>\n",
       "      <th>AverageTemperature</th>\n",
       "      <th>AverageTemperatureUncertainty</th>\n",
       "      <th>City</th>\n",
       "      <th>Country</th>\n",
       "      <th>Latitude</th>\n",
       "      <th>Longitude</th>\n",
       "      <th>year</th>\n",
       "      <th>month</th>\n",
       "    </tr>\n",
       "  </thead>\n",
       "  <tbody>\n",
       "    <tr>\n",
       "      <th>128618</th>\n",
       "      <td>1744-10-01</td>\n",
       "      <td>9.597</td>\n",
       "      <td>1.651</td>\n",
       "      <td>London</td>\n",
       "      <td>United Kingdom</td>\n",
       "      <td>52.24N</td>\n",
       "      <td>0.00W</td>\n",
       "      <td>1744</td>\n",
       "      <td>10</td>\n",
       "    </tr>\n",
       "    <tr>\n",
       "      <th>128630</th>\n",
       "      <td>1745-10-01</td>\n",
       "      <td>NaN</td>\n",
       "      <td>NaN</td>\n",
       "      <td>London</td>\n",
       "      <td>United Kingdom</td>\n",
       "      <td>52.24N</td>\n",
       "      <td>0.00W</td>\n",
       "      <td>1745</td>\n",
       "      <td>10</td>\n",
       "    </tr>\n",
       "    <tr>\n",
       "      <th>128642</th>\n",
       "      <td>1746-10-01</td>\n",
       "      <td>NaN</td>\n",
       "      <td>NaN</td>\n",
       "      <td>London</td>\n",
       "      <td>United Kingdom</td>\n",
       "      <td>52.24N</td>\n",
       "      <td>0.00W</td>\n",
       "      <td>1746</td>\n",
       "      <td>10</td>\n",
       "    </tr>\n",
       "    <tr>\n",
       "      <th>128654</th>\n",
       "      <td>1747-10-01</td>\n",
       "      <td>NaN</td>\n",
       "      <td>NaN</td>\n",
       "      <td>London</td>\n",
       "      <td>United Kingdom</td>\n",
       "      <td>52.24N</td>\n",
       "      <td>0.00W</td>\n",
       "      <td>1747</td>\n",
       "      <td>10</td>\n",
       "    </tr>\n",
       "    <tr>\n",
       "      <th>128666</th>\n",
       "      <td>1748-10-01</td>\n",
       "      <td>NaN</td>\n",
       "      <td>NaN</td>\n",
       "      <td>London</td>\n",
       "      <td>United Kingdom</td>\n",
       "      <td>52.24N</td>\n",
       "      <td>0.00W</td>\n",
       "      <td>1748</td>\n",
       "      <td>10</td>\n",
       "    </tr>\n",
       "  </tbody>\n",
       "</table>\n",
       "</div>"
      ],
      "text/plain": [
       "                dt  AverageTemperature  AverageTemperatureUncertainty    City  \\\n",
       "128618  1744-10-01               9.597                          1.651  London   \n",
       "128630  1745-10-01                 NaN                            NaN  London   \n",
       "128642  1746-10-01                 NaN                            NaN  London   \n",
       "128654  1747-10-01                 NaN                            NaN  London   \n",
       "128666  1748-10-01                 NaN                            NaN  London   \n",
       "\n",
       "               Country Latitude Longitude  year  month  \n",
       "128618  United Kingdom   52.24N     0.00W  1744     10  \n",
       "128630  United Kingdom   52.24N     0.00W  1745     10  \n",
       "128642  United Kingdom   52.24N     0.00W  1746     10  \n",
       "128654  United Kingdom   52.24N     0.00W  1747     10  \n",
       "128666  United Kingdom   52.24N     0.00W  1748     10  "
      ]
     },
     "execution_count": 2,
     "metadata": {},
     "output_type": "execute_result"
    }
   ],
   "source": [
    "# Importing csv dataset with pandas\n",
    "data = pd.read_csv('temps.csv')\n",
    "\n",
    "# Extrating year and month from data\n",
    "data['year'] = pd.DatetimeIndex(pd.to_datetime(data['dt'])).year\n",
    "data['month'] = pd.DatetimeIndex(pd.to_datetime(data['dt'])).month\n",
    "\n",
    "# Using only temp data for Los Angeles in October\n",
    "data = data.loc[data['City'] == 'London']\n",
    "data = data.loc[data['month'] == 10]\n",
    "\n",
    "# Looking at the first 5 rows of dataset\n",
    "data.head()"
   ]
  },
  {
   "cell_type": "code",
   "execution_count": 3,
   "metadata": {},
   "outputs": [
    {
     "data": {
      "image/png": "[encoded data removed]",
      "text/plain": [
       "<matplotlib.figure.Figure at 0x10a570250>"
      ]
     },
     "metadata": {},
     "output_type": "display_data"
    }
   ],
   "source": [
    "# Using Year as X_values and price as Y_values, we want to predict the temperature\n",
    "# in LA in a future year\n",
    "points = data.as_matrix(['year', 'AverageTemperature'])\n",
    "\n",
    "# Looking at the plot of the points, we can see a linear trend \n",
    "f, ax = plt.subplots(figsize=(14, 5))\n",
    "ax.set_xlabel('Year')\n",
    "ax.set_ylabel('Av. Temp in October (Degrees Celcius)')\n",
    "plt.scatter(points[:,0], points[:,1])\n",
    "plt.show()"
   ]
  },
  {
   "cell_type": "code",
   "execution_count": 4,
   "metadata": {
    "collapsed": true
   },
   "outputs": [],
   "source": [
    "# Computes mean sum of squared error for all data points\n",
    "def compute_error_for_line_given_points(b, m, points):\n",
    "    totalError = 0\n",
    "    for i in range(0, len(points)):\n",
    "        x = points[i, 0]\n",
    "        y = points[i, 1]\n",
    "        totalError += (y - (m * x + b)) ** 2\n",
    "    return totalError / float(len(points))"
   ]
  },
  {
   "cell_type": "code",
   "execution_count": 5,
   "metadata": {
    "collapsed": true
   },
   "outputs": [],
   "source": [
    "def step_gradient(b_current, m_current, points, learningRate, lam, regularizer):\n",
    "    b_gradient = 0\n",
    "    m_gradient = 0\n",
    "    N = float(len(points))\n",
    "    \n",
    "    # Iterating over all points\n",
    "    for i in range(0, len(points)):\n",
    "        # Getting x and y values\n",
    "        x = points[i, 0]\n",
    "        y = points[i, 1]\n",
    "        \n",
    "        # Calculating gradients according to regularization\n",
    "        if regularizer == 'L1':\n",
    "            m_gradient += (lam/(2*N) -(x/N) * (y - ((m_current * x) + b_current)))\n",
    "        elif regularizer == 'L2':\n",
    "            m_gradient += (lam/N*m_current - (x/N) * (y - ((m_current * x) + b_current)))\n",
    "        else:\n",
    "            m_gradient += -(x/N) * (y - ((m_current * x) + b_current))\n",
    "        b_gradient += -(1/N) * (y - ((m_current * x) + b_current))\n",
    "        \n",
    "    # Updating b and m with learningrate * gradients\n",
    "    new_b = b_current - (learningRate * b_gradient)\n",
    "    new_m = m_current - (learningRate * m_gradient)\n",
    "    return [new_b, new_m]"
   ]
  },
  {
   "cell_type": "code",
   "execution_count": 6,
   "metadata": {
    "collapsed": true
   },
   "outputs": [],
   "source": [
    "def gradient_descent_runner(points, starting_b, starting_m, learning_rate, num_iterations, lam, regularizer):\n",
    "    b = starting_b\n",
    "    m = starting_m\n",
    "    for i in range(num_iterations):\n",
    "        b, m = step_gradient(b, m, np.array(points), learning_rate, lam, regularizer)\n",
    "        # Every 100 iterations, prints b and m and error\n",
    "        if i % 100 == 0:\n",
    "            print('Iteration {}, b:{}, m:{}, error:{}'.format(i, b, m, compute_error_for_line_given_points(b, m, points)))\n",
    "    return [b, m]\n",
    "\n",
    "def run(lr, num_iter, lam, regularizer=None):\n",
    "    learning_rate = lr\n",
    "    initial_b = 0 # initial y-intercept guess\n",
    "    initial_m = 0 # initial slope guess\n",
    "    num_iterations = num_iter\n",
    "    print(\"Starting gradient descent at b = {0}, m = {1}, error = {2}\".format(initial_b, initial_m, compute_error_for_line_given_points(initial_b, initial_m, points)))\n",
    "    print(\"Running...\")\n",
    "    [b, m] = gradient_descent_runner(points, initial_b, initial_m, learning_rate, num_iterations, lam, regularizer)\n",
    "    print(\"After {0} iterations b = {1}, m = {2}, error = {3}\".format(num_iterations, b, m, compute_error_for_line_given_points(b, m, points)))\n",
    "    return b, m\n",
    "\n",
    "# Predicts y, given x\n",
    "def predict(b, m, x_values):\n",
    "    predicted_y = list()\n",
    "    for x in x_values:\n",
    "        y = m * x + b\n",
    "        predicted_y.append(y)\n",
    "    return predicted_y"
   ]
  },
  {
   "cell_type": "code",
   "execution_count": 7,
   "metadata": {},
   "outputs": [
    {
     "name": "stdout",
     "output_type": "stream",
     "text": [
      "Starting gradient descent at b = 0, m = 0, error = nan\n",
      "Running...\n",
      "Iteration 0, b:nan, m:nan, error:nan\n",
      "Iteration 100, b:nan, m:nan, error:nan\n",
      "Iteration 200, b:nan, m:nan, error:nan\n",
      "Iteration 300, b:nan, m:nan, error:nan\n",
      "Iteration 400, b:nan, m:nan, error:nan\n",
      "After 500 iterations b = nan, m = nan, error = nan\n",
      "Starting gradient descent at b = 0, m = 0, error = nan\n",
      "Running...\n",
      "Iteration 0, b:nan, m:nan, error:nan\n",
      "Iteration 100, b:nan, m:nan, error:nan\n",
      "Iteration 200, b:nan, m:nan, error:nan\n",
      "Iteration 300, b:nan, m:nan, error:nan\n",
      "Iteration 400, b:nan, m:nan, error:nan\n",
      "After 500 iterations b = nan, m = nan, error = nan\n",
      "Starting gradient descent at b = 0, m = 0, error = nan\n",
      "Running...\n",
      "Iteration 0, b:nan, m:nan, error:nan\n",
      "Iteration 100, b:nan, m:nan, error:nan\n",
      "Iteration 200, b:nan, m:nan, error:nan\n",
      "Iteration 300, b:nan, m:nan, error:nan\n",
      "Iteration 400, b:nan, m:nan, error:nan\n",
      "After 500 iterations b = nan, m = nan, error = nan\n"
     ]
    }
   ],
   "source": [
    "# Hyperparameters\n",
    "learning_rate = 0.0000001\n",
    "iterations = 500\n",
    "lamb = 500\n",
    "\n",
    "# Linear Regression with L1 \n",
    "b1, m1 = run(learning_rate, iterations, lamb, 'L1')\n",
    "\n",
    "# Linear Regression with L2 \n",
    "b2, m2 = run(learning_rate, iterations, lamb, 'L2')\n",
    "\n",
    "# Linear Regression without Regularization\n",
    "b3, m3 = run(learning_rate, iterations, lamb)"
   ]
  },
  {
   "cell_type": "code",
   "execution_count": 8,
   "metadata": {},
   "outputs": [
    {
     "data": {
      "image/png": "[encoded data removed]",
      "text/plain": [
       "<matplotlib.figure.Figure at 0x10d983690>"
      ]
     },
     "metadata": {},
     "output_type": "display_data"
    }
   ],
   "source": [
    "# Comparing best-fit line with dataset\n",
    "f, ax = plt.subplots(figsize=(14, 5))\n",
    "ax.set_xlabel('Year')\n",
    "ax.set_ylabel('Av. Temp in October (Degrees Celcius)')\n",
    "plt.plot(points[:,0], predict(b1, m1, points[:,0]), label='L1')\n",
    "plt.plot(points[:,0], predict(b2, m2, points[:,0]), label='L2')\n",
    "plt.plot(points[:,0], predict(b3, m3, points[:,0]), label='None')\n",
    "plt.scatter(points[:,0], points[:,1])\n",
    "plt.legend()\n",
    "plt.show()"
   ]
  },
  {
   "cell_type": "code",
   "execution_count": 9,
   "metadata": {},
   "outputs": [
    {
     "data": {
      "text/plain": [
       "[nan, nan, nan]"
      ]
     },
     "execution_count": 9,
     "metadata": {},
     "output_type": "execute_result"
    }
   ],
   "source": [
    "# And just for fun, let's predict the impact of global warming by 2100\n",
    "temp = predict(b1,m1, [2017, 2050, 2100])\n",
    "\n",
    "temp"
   ]
  },
  {
   "cell_type": "code",
   "execution_count": null,
   "metadata": {
    "collapsed": true
   },
   "outputs": [],
   "source": []
  }
 ],
 "metadata": {
  "kernelspec": {
   "display_name": "Python 2",
   "language": "python",
   "name": "python2"
  },
  "language_info": {
   "codemirror_mode": {
    "name": "ipython",
    "version": 2
   },
   "file_extension": ".py",
   "mimetype": "text/x-python",
   "name": "python",
   "nbconvert_exporter": "python",
   "pygments_lexer": "ipython2",
   "version": "2.7.13"
  }
 },
 "nbformat": 4,
 "nbformat_minor": 2
}
